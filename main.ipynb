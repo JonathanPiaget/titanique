{
 "cells": [
  {
   "attachments": {},
   "cell_type": "markdown",
   "id": "7dbba591",
   "metadata": {},
   "source": [
    "# Importer les librairies"
   ]
  },
  {
   "cell_type": "code",
   "execution_count": null,
   "id": "0e1c95d0",
   "metadata": {},
   "outputs": [],
   "source": [
    "import pandas as pd \n",
    "from scipy import stats\n",
    "from scipy.stats import chi2_contingency, pearsonr\n",
    "import numpy as np\n",
    "pd.set_option('mode.chained_assignment', None) # ignorer certains warnings\n",
    "\n",
    "# Data\n",
    "from sklearn import datasets\n",
    "\n",
    "# Visualisation\n",
    "import matplotlib.pyplot as plt\n",
    "import seaborn as sns\n",
    "\n",
    "# Machine learning\n",
    "import statsmodels.api as sm\n",
    "from sklearn.tree import DecisionTreeClassifier, plot_tree"
   ]
  },
  {
   "attachments": {},
   "cell_type": "markdown",
   "id": "3abf0329",
   "metadata": {},
   "source": [
    "# Importer les données"
   ]
  },
  {
   "cell_type": "code",
   "execution_count": null,
   "id": "1066b6ec",
   "metadata": {},
   "outputs": [],
   "source": [
    "data = pd.read_csv(\"./titanic.csv\")\n",
    "data"
   ]
  },
  {
   "attachments": {},
   "cell_type": "markdown",
   "id": "05045c73",
   "metadata": {},
   "source": [
    "# Questions"
   ]
  },
  {
   "attachments": {},
   "cell_type": "markdown",
   "id": "a164d862",
   "metadata": {},
   "source": [
    "## 1. Préparation des données\n",
    "\n",
    "Remplissez la function `preprocess` ci-dessus. Celle-ci doit:\n",
    "1. Supprimez les colonnes `PassengerId`, `Name`, `Ticket`, `Cabin`.\n",
    "2. Supprimez les lignes contenant au moins une valeur manquante.\n",
    "3. Créer une variable `FamilySize` qui est correspond à `SibSp` + `Parch` + 1. Supprimez les variables `SibSp` et `Parch`.\n",
    "4. Recalculer le prix du billet `Fare` en divisant `Fare` par `FamilySize`.\n",
    "5. Encoder les variables qualitatives `Sex` et `Embarked` avec l'argument `drop_first=True`."
   ]
  },
  {
   "cell_type": "code",
   "execution_count": null,
   "id": "d4299600",
   "metadata": {},
   "outputs": [],
   "source": [
    "def preprocess(data: pd.DataFrame) -> pd.DataFrame:\n",
    "    \n",
    "    \"\"\"La fonction prépare les données à l'analyse.\n",
    "    \n",
    "    Args:\n",
    "        data (pd.DataFrame): La dataframe originale\n",
    "        \n",
    "    Returns:\n",
    "        pd.DataFrame: La dataframe preprocessé et prête à être analysée.\n",
    "    \"\"\"\n",
    "    \n",
    "    # Faire une copy de la dataframe originale\n",
    "    data_preprocessed = data.copy()\n",
    "    \n",
    "    # Supprimez les variables `PassengerId`, `Name`, `Ticket` & `Cabin`\n",
    "    data_preprocessed.drop(columns=['PassengerId', 'Name', 'Ticket', 'Cabin'], inplace=True)\n",
    "    \n",
    "    # Supprimez lignes contenant au moins une valeur manquante\n",
    "    data_preprocessed.dropna(axis=0, inplace=True) # on supprime les lignes (axe 0) et pas les colonnes \n",
    "    \n",
    "    # Créer une variable `FamilySize` et supprimez les variables `SibSp` et `Parch`\n",
    "    data_preprocessed['FamilySize'] = data['SibSp'] + data['Parch'] + 1\n",
    "    data_preprocessed.drop(columns=['SibSp', 'Parch'], inplace=True)\n",
    "    \n",
    "    # Recalculer le prix du billet\n",
    "    data_preprocessed['Fare'] = data_preprocessed['Fare'] / data_preprocessed['FamilySize']\n",
    "    \n",
    "    # Encoded (OHE) `Sex` et `Embarked`\n",
    "    data_preprocessed = pd.get_dummies(data_preprocessed, columns=['Sex', 'Embarked'], drop_first=True, dtype=int)\n",
    "    \n",
    "    \n",
    "    # CHECK: NE PAS TOUCHER\n",
    "    for col in [\"PassengerId\", \"Name\", \"Ticket\", \"Cabin\", \"SibSp\", \"Parch\"]:\n",
    "        assert col not in data_preprocessed, f\"{col} n'a pas été retiré.\"\n",
    "    assert data_preprocessed.isna().sum().sum() == 0, \"Il reste encore des NaN à supprimer.\"\n",
    "    assert \"FamilySize\" in data_preprocessed.columns, \"La colonne `FamilySize` n'a pas été créée.\"\n",
    "    assert data_preprocessed.loc[0, \"Fare\"] == 3.625, \"La colonne `Fare` n'a pas été recalculée.\"\n",
    "    for col in [col for col in data_preprocessed if col.startswith(\"Embarked\")]:\n",
    "        assert data_preprocessed[col].nunique() == 2, f\"{col} n'a pas été encodé.\"\n",
    "    for col in [col for col in data_preprocessed if col.startswith(\"Sex\")]:\n",
    "        assert data_preprocessed[col].nunique() == 2, f\"{col} n'a pas été encodé.\"\n",
    "    \n",
    "    return data_preprocessed"
   ]
  },
  {
   "attachments": {},
   "cell_type": "markdown",
   "id": "35ca88d2",
   "metadata": {},
   "source": [
    "Le résultat de la function doit vous donner exactement le tableau ci-dessous."
   ]
  },
  {
   "cell_type": "code",
   "execution_count": null,
   "id": "53b7ef06",
   "metadata": {},
   "outputs": [],
   "source": [
    "# Preprocess les données à l'aide de la function `preprocess`\n",
    "data_clean = preprocess(data)\n",
    "display(data_clean)"
   ]
  },
  {
   "attachments": {},
   "cell_type": "markdown",
   "id": "5a1091b1",
   "metadata": {},
   "source": [
    "## 2. Inférence statistique (4 pts)"
   ]
  },
  {
   "cell_type": "code",
   "execution_count": null,
   "id": "b91665cb",
   "metadata": {},
   "outputs": [],
   "source": [
    "# variables globales\n",
    "ALPHA = 0.05"
   ]
  },
  {
   "attachments": {},
   "cell_type": "markdown",
   "id": "93fdb7b6",
   "metadata": {},
   "source": [
    "### Q1: L'âge moyen des passagers du Titanic est-il est le même que l'âge moyen de la population en 1912 (28 ans)?"
   ]
  },
  {
   "cell_type": "markdown",
   "id": "69c6353f",
   "metadata": {},
   "source": [
    "### Variable d'intérêt\n",
    "La variable d'intérêt ici est \"Age\", qui est une variable quantitative continue."
   ]
  },
  {
   "cell_type": "markdown",
   "id": "9fd6d0ce",
   "metadata": {},
   "source": [
    "### Visualisation de la variable"
   ]
  },
  {
   "cell_type": "code",
   "execution_count": null,
   "id": "63e078da",
   "metadata": {},
   "outputs": [],
   "source": [
    "age = data_clean['Age']\n",
    "plt.hist(age, bins=30, edgecolor='black', color='skyblue', density=True)\n",
    "sns.kdeplot(age, color='red')\n",
    "plt.title('Distribution des âges des passagers du Titanic')\n",
    "plt.xlabel('Âge')\n",
    "plt.ylabel('Fréquence')\n",
    "plt.show()"
   ]
  },
  {
   "cell_type": "markdown",
   "id": "dec55e4c",
   "metadata": {},
   "source": [
    "L'histogramme illustre une distribution des âges avec une concentration élevée de passagers dans la tranche d'âge 20-30 ans, suggérant que l'âge moyen pourrait être proche de l'âge moyen de la population en 1912, qui était de 28 ans."
   ]
  },
  {
   "cell_type": "markdown",
   "id": "a5bf00a0",
   "metadata": {},
   "source": [
    "### Hypothèse nulle et alternative\n",
    "H0: μ = 28\n",
    "H1: μ != 28\n",
    "\n",
    "### Test statistique approprié\n",
    "Le test statistique approprié pour comparer l'âge moyen des passagers du Titanic à l'âge moyen connu de la population en 1912 est le One-Sample t-test (t-test pour une moyenne). Ce choix est justifié par le fait que nous disposons d'une valeur moyenne spécifique pour la population (28 ans), mais que la variance de la population est inconnue, ce qui est une condition préalable standard pour l'application du One-Sample t-test."
   ]
  },
  {
   "cell_type": "markdown",
   "id": "86a1ef82",
   "metadata": {},
   "source": [
    "### Validation des assumptions\n",
    "- Les données sont obtenues d'une manière aléatoire : Les passagers du Titanic ne représentent pas un échantillon aléatoire au sens strict du terme, ils n'ont pas été choisis pour faire partie du jeu de données en raison d'un processus d'échantillonnage aléatoire. Pour des besoins d'analyse, cela est suffisant car aucune personne n'a été sélectionnée ou exlclue de la liste des passagers en fonction de leur âge.\n",
    "- L'échantillon est suffisamment grand : Il y a 712 lignes dans nos données d'analyse, ce qui est plus grand que 30 et donc suffisant."
   ]
  },
  {
   "cell_type": "markdown",
   "id": "603d1744",
   "metadata": {},
   "source": [
    "### Calcul des valeurs et prise de décision"
   ]
  },
  {
   "cell_type": "code",
   "execution_count": null,
   "id": "e091a556",
   "metadata": {},
   "outputs": [],
   "source": [
    "# moyenne de l'âge de la population en 1912\n",
    "mu = 28\n",
    "# âge des passagers du Titanic\n",
    "age = data_clean['Age']\n",
    "\n",
    "t, p_valeur = stats.ttest_1samp(age, popmean=mu)\n",
    "sample_mean = np.mean(age)\n",
    "d_cohen = (sample_mean - mu) / np.std(age)\n",
    "\n",
    "print(f\"La statistique t est de : {round(t, 3)}\")\n",
    "print(f\"La p-valeur associée est de : {round(p_valeur, 3)}\")\n",
    "if p_valeur < ALPHA:\n",
    "    print(f\"Avec un seuil alpha {ALPHA}, on rejète l'hypothèse nulle.\")\n",
    "else:\n",
    "    print(f\"Avec un seuil alpha {ALPHA}, on ne rejète pas l'hypothèse nulle.\")\n",
    "print(f\"Moyenne d'âge de l'échantillon : {round(sample_mean, 3)}\")\n",
    "print(f\"Taille de l'effet (d de Cohen) : {round(d_cohen, 3)}\")\n",
    "if d_cohen < 0.2:\n",
    "    print(\"La taille de l'effet est considérée comme petite.\")\n",
    "elif 0.2 <= d_cohen < 0.5:\n",
    "    print(\"La taille de l'effet est considérée comme moyenne.\")\n",
    "elif 0.5 < d_cohen < 0.8:\n",
    "    print(\"La taille de l'effet est considérée comme grande.\")\n",
    "else:\n",
    "    print(\"La taille de l'effet est considérée comme très grande.\")"
   ]
  },
  {
   "cell_type": "markdown",
   "id": "f7053031",
   "metadata": {},
   "source": [
    "### Interprétation des résultats et évaluation de la taille des effets\n",
    "L'âge moyen des passagers du Titanic est statistiquement significativement différent de 28 ans, mais avec une taille d'effet petite.\n",
    "\n",
    "Cela pourrait suggérer que l'âge des passagers du Titanic reflétait assez bien la distribution des âges dans la population en général en 1912, même si l'âge moyen était légèrement différent."
   ]
  },
  {
   "attachments": {},
   "cell_type": "markdown",
   "id": "7ec7b55f",
   "metadata": {},
   "source": [
    "### Q2: La survie dépend-elle de la classe du passager?"
   ]
  },
  {
   "cell_type": "markdown",
   "id": "58f2fa66",
   "metadata": {},
   "source": [
    "### Variables d'intérêt\n",
    "Les variables d'intérêts sont la variable de survie et la classe du passager. Ces deux variables sont qualitatives: nominale pour \"Survived\" et ordinale pour \"Pclass\".\n",
    "\n",
    "### Visualisation des variables"
   ]
  },
  {
   "cell_type": "code",
   "execution_count": null,
   "id": "6fef0c6d",
   "metadata": {},
   "outputs": [],
   "source": [
    "sns.catplot(\n",
    "    data=data,\n",
    "    x=\"Pclass\",\n",
    "    hue=\"Survived\",\n",
    "    kind=\"count\",\n",
    "    palette=\"pastel\",\n",
    "    legend=False,\n",
    ")\n",
    "plt.title('Survie des passagers du Titanic par classe', fontsize=14)\n",
    "plt.xlabel('Classe de passager', fontsize=12)\n",
    "plt.ylabel('Nombre de passagers', fontsize=12)\n",
    "plt.xticks([0, 1, 2], ['1ère Classe', '2ème Classe', '3ème Classe'])\n",
    "plt.legend(title='Survie', labels=['Décédés', 'Survivants'])\n",
    "plt.show()"
   ]
  },
  {
   "cell_type": "markdown",
   "id": "294518e0",
   "metadata": {},
   "source": [
    "On peut observer sur ce diagramme que la majorité des personnes ont survécues en 1ère classe. En deuxème classe, par contre, un peu plus que la moitié sont mortes, et en 3ème classe, l'écrasante majorité est décédée. Cela peut peut être lié à l'emplacement des cabines sur le bateau, les personnes en 1ère classe ayant des cabines plus proches des ponts supérieurs ce qui peut donner un avantage en cas d'évacuation. Ils peuvent aussi avoir eu accès à plus de canots de sauvetages, etc."
   ]
  },
  {
   "cell_type": "markdown",
   "id": "1c0defe9",
   "metadata": {},
   "source": [
    "\n",
    "### Hypothèse nulle et alternative\n",
    "H0: μ = La survie d'un passager et le type de sa classe sont indépendants l'un de l'autre.\n",
    "H1: μ != La survie d'un passager et le type de sa classe ne sont pas indépendants l'un de l'autre.\n",
    "### Test statistique approprié\n",
    "Le test statistique approprié ici est le 𝜒2 independence test ou \"chi-square\", car on désire tester si des variables qualitatives sont indépendantes les unes des autres.\n",
    "### Validation des assumptions\n",
    "Les assumptions suivantes sont validées pour ce test:\n",
    "- Les échantillons sont aléatoires.\n",
    "- Pour chaque combinaison des niveaux des variables, nous avons besoin d’au moins 5 valeurs. Nous alons vérifier cela ci-après à l'aide d'un tableau de contingence :\n"
   ]
  },
  {
   "cell_type": "code",
   "execution_count": null,
   "id": "9f509490",
   "metadata": {},
   "outputs": [],
   "source": [
    "contingency_table = pd.crosstab(data_clean['Survived'], data_clean['Pclass'])\n",
    "print(contingency_table)"
   ]
  },
  {
   "cell_type": "markdown",
   "id": "12b844c1",
   "metadata": {},
   "source": [
    "Comme nous pouvons l'observer, il y a au moins 5 valeurs par niveau de variable. L'assumption est donc validée."
   ]
  },
  {
   "cell_type": "markdown",
   "id": "f54e4ce1",
   "metadata": {},
   "source": [
    "### Calcul des valeurs et prise de décision"
   ]
  },
  {
   "cell_type": "code",
   "execution_count": null,
   "id": "3bd1316a",
   "metadata": {},
   "outputs": [],
   "source": [
    "# Effectuer le test du chi-carré\n",
    "chi2, p, _, _ = chi2_contingency(contingency_table)\n",
    "\n",
    "\n",
    "# Calcul de la taille de l'effet Cramer's V\n",
    "n = data_clean.shape[0]  # Taille totale de l'échantillon\n",
    "k, r = contingency_table.shape  # Nombre de colonnes et de lignes dans le tableau\n",
    "# Calcul du coefficient de Cramer\n",
    "cramers_v = np.sqrt(chi2 / (n * (min(k, r) - 1)))\n",
    "\n",
    "# Afficher les résultats\n",
    "print(f\"La statistique du test Chi-Squared : {round(chi2, 3)}\")\n",
    "print(f\"La p-valeur associée est de : {p}\")\n",
    "print(f\"La taille de l'effet (Cramer's V) est de : {round(cramers_v, 3)}\")\n",
    "\n",
    "# Interpréter les résultats\n",
    "if p < ALPHA:\n",
    "    print(\"Il y a une association significative entre les personnes qui ont survécus et leur classe passager. On rejette l'hypothèse nulle.\")\n",
    "else:\n",
    "    print(\"Il n'y a pas de preuve significative d'association entre les personnes qui ont survécus et leur classe passager. On ne rejette pas l'hypothèse nulle.\")\n",
    "    \n",
    "if cramers_v <= 0.2:\n",
    "    print(\"La taille de l'effet est considérée comme petite.\")\n",
    "elif 0.2 < cramers_v <= 0.6:\n",
    "    print(\"La taille de l'effet est considérée comme moyenne.\")\n",
    "elif 0.6 < cramers_v <= 1:\n",
    "    print(\"La taille de l'effet est considérée comme grande.\")\n"
   ]
  },
  {
   "cell_type": "markdown",
   "id": "e0dc702b",
   "metadata": {},
   "source": [
    "### Interprétation des résultats et évaluation de la taille des effets\n",
    "Il existe une association statistiquement significative de force moyenne entre la classe des passagers et leur taux de survie.\n",
    "La taille de l'effet est considérée comme moyenne suggère que la classe du passager a effectiement une influence modérée par rapport à la survie de ce dernier."
   ]
  },
  {
   "attachments": {},
   "cell_type": "markdown",
   "id": "6dba1f3c",
   "metadata": {},
   "source": [
    "### Q3: Existe-t-il une différence d'âge entre les passagers qui ont survécu et les passagers décédés?"
   ]
  },
  {
   "cell_type": "markdown",
   "id": "92c21854",
   "metadata": {},
   "source": [
    "### Variables d'intérêt\n",
    "Les variables d'intérêt sont ici Age (variable quantitative continue) et Survived (variable qualitative catégorielle).\n",
    "\n",
    "### Visualisation des variables"
   ]
  },
  {
   "cell_type": "code",
   "execution_count": null,
   "id": "d9bcdd85",
   "metadata": {},
   "outputs": [],
   "source": [
    "sns.boxplot(\n",
    "    x='Survived', \n",
    "    y='Age', \n",
    "    data=data_clean,\n",
    "    showmeans=True,\n",
    "    hue='Survived',\n",
    "    legend=False,\n",
    ")\n",
    "plt.title(\"Survie des passagers par âge\", fontsize=14)\n",
    "plt.xticks(ticks=[0,1], labels=['Décédés', 'Survivants'])\n",
    "plt.xlabel('Survie des passagers', fontsize=12)\n",
    "plt.ylabel('Âge des passagers', fontsize=12)\n",
    "plt.show()"
   ]
  },
  {
   "cell_type": "markdown",
   "id": "6bd2c53c",
   "metadata": {},
   "source": [
    "On peut observer que la médiane à l'air semblable sur les deux boxplot, il y a autant de personne qui ont moins que 29 ans qui sont décédées que de personnes de plus de 29 ans, même chose pour les personnes survivantes. Par contre, au niveau de la moyenne, elle semble un peu plus élevées du côté des personnes décédées."
   ]
  },
  {
   "cell_type": "markdown",
   "id": "45011815",
   "metadata": {},
   "source": [
    "### Hypothèse nulle et alternative\n",
    "Hypothèse nulle (H0) : Il n'y a pas de différence significative entre l'âge des passagers qui ont survécu et ceux qui sont décédés.\n",
    "Hypothèse alternative (H1) : Il y a une différence significative entre l'âge des passagers qui ont survécu et ceux qui sont décédés\n",
    "### Test statistique approprié\n",
    "Le test statistique approprié est le two-sample t-test, car nous souhaitons tester si deux moyennes de notre population (moyenne des personnes décédées et moyenne des personnes survivantes), sont statistiquement différentes ou égales, tout en ayant la possibilité d'obtenir les variances.\n",
    "### Validation des assumptions\n",
    "Les assumptions suivantes sont validées pour ce test:\n",
    "- Les données sont obtenues d'une manière aléatoire : Les passagers du Titanic ne représentent pas un échantillon aléatoire au sens strict du terme, ils n'ont pas été choisis pour faire partie du jeu de données en raison d'un processus d'échantillonnage aléatoire. Pour des besoins d'analyse, cela est suffisant car aucune personne n'a été sélectionnée ou exlclue de la liste des passagers en fonction de leur âge.\n",
    "- Les échantillons sont indépendants les uns des autres. La survie ou le décès d'un passager ne devrait pas avoir d'influence sur la survie ou le décès d'un autre passager.\n",
    "- La taille des échantillons est supérieure à 30, nous avons 712 lignes dans nos données"
   ]
  },
  {
   "cell_type": "markdown",
   "id": "a660aa6a",
   "metadata": {},
   "source": [
    "### Calcul des valeurs et prise de décision"
   ]
  },
  {
   "cell_type": "code",
   "execution_count": null,
   "id": "751d8dd3",
   "metadata": {},
   "outputs": [],
   "source": [
    "survived = data_clean[data_clean['Survived'] == 1]['Age']\n",
    "died = data_clean[data_clean['Survived'] == 0]['Age']\n",
    "\n",
    "t, p_valeur = stats.ttest_ind(\n",
    "    survived,\n",
    "    died,\n",
    "    alternative=\"two-sided\",\n",
    "    equal_var=False\n",
    ")\n",
    "survived_mean = np.mean(survived)\n",
    "died_mean = np.mean(died)\n",
    "variance_survived = np.var(survived, ddof=1)\n",
    "variance_died = np.var(died, ddof=1)\n",
    "n_survived = len(survived)\n",
    "n_died = len(died)\n",
    "d_cohen = (np.mean(survived) - np.mean(died)) / np.sqrt(((n_survived-1)*variance_survived + (n_died-1)*variance_died) / (n_survived+n_died-2))\n",
    "\n",
    "print(f\"La moyenne d'âge des survivants est de : {round(survived_mean, 3)}\")\n",
    "print(f\"La moyenne d'âge des non-survivants est de : {round(died_mean, 3)}\")\n",
    "print(f\"La statistique t est de : {round(t, 3)}\")\n",
    "print(f\"La p-valeur associée est de : {round(p_valeur, 3)}\")\n",
    "if p_valeur < ALPHA:\n",
    "    print(F\"Avec un seuil alpha {ALPHA}, on rejète l'hypothèse nulle.\")\n",
    "else:\n",
    "    print(f\"Avec un seuil alpha {ALPHA}, on ne rejète pas l'hypothèse nulle.\")\n",
    "print(f\"Taille de l'effet (d de Cohen) : {round(d_cohen, 3)}\")"
   ]
  },
  {
   "cell_type": "markdown",
   "id": "8ed09adf",
   "metadata": {},
   "source": [
    "### Interprétation des résultats et évalutaion de la taille des effets\n",
    "Il semble y avoir une différence significative entre l'âge des passagers qui ont survécus et ceux qui sont décédés lors du naufrage, les survivants étant en moyenne plus jeunes. \n",
    "Malgré cela, l'âge n'a pas forcément directement influencé les chances de survie. \n",
    "Le d de Cohen suggère qu'il y a une petite différence statistiquement significative entre l'âge moyen des survivants et des non-survivants sur le Titanic."
   ]
  },
  {
   "attachments": {},
   "cell_type": "markdown",
   "id": "5425c746",
   "metadata": {},
   "source": [
    "### Q4: Existe-t-il une relation entre l'âge des passagers et le prix des billets?"
   ]
  },
  {
   "cell_type": "markdown",
   "id": "078fa61a",
   "metadata": {},
   "source": [
    "### Variables d'intérêt\n",
    "Les variables d'intérêt sont dans ce cas l'âge des passagers et le prix des billets, toutes deux des variables quantitatives.\n",
    "\n",
    "### Visualisation des variables"
   ]
  },
  {
   "cell_type": "code",
   "execution_count": null,
   "id": "712a08b5",
   "metadata": {},
   "outputs": [],
   "source": [
    "# Sélectionner les colonnes âge et prix des billets\n",
    "age = data_clean['Age']\n",
    "prix_billets = data_clean['Fare']\n",
    "\n",
    "outlier = data_clean[data_clean['Fare'] > 500] # suppression valeurs abberantes\n",
    "\n",
    "prix_billets = prix_billets.drop(outlier.index)\n",
    "age = age.drop(outlier.index)\n",
    "\n",
    "# Tracer le nuage de points pour la visualisation\n",
    "plt.scatter(age, prix_billets)\n",
    "plt.xlabel('Âge des passagers')\n",
    "plt.ylabel('Prix des billets')\n",
    "plt.title('Nuage de points : Âge vs Prix des billets')\n",
    "plt.show()\n"
   ]
  },
  {
   "cell_type": "markdown",
   "id": "56ac7c54",
   "metadata": {},
   "source": [
    "Le scatter plot montre une légère correlation positive entre le prix des billets et l'âge des passagers, dû à la dispersion des points, après avoir enlevé les valeurs abhérentes."
   ]
  },
  {
   "cell_type": "markdown",
   "id": "35cc1f1f",
   "metadata": {},
   "source": [
    "### Hypothèse nulle et alternative\n",
    "H0: p = 0, il n'y pas de corrélation significative entre l'âge et le prix des billets.  \n",
    "H1:p ≠ 0, il y a une corrélation significative entre l'âge et le prix des billets.\n",
    "\n",
    "### Test statistique approprié\n",
    "Le test statistique approprié est le t-test correlation car nous voulons savoir s'il y a une corrélation entre l'âge et le prix du billet des passagers.\n",
    "\n",
    "### Validation des assumptions\n",
    "Les assumptions suivantes sont validées pour ce test:\n",
    "- Les données sont quantitatives et sont obtenues à partir d'un échantillon aléatoire.\n",
    "- Le scatter plot montre que les données sont approximativement liées linéairement.\n",
    "- Il n'y a plus de valeurs abberantes dans les données.\n",
    "- Les variables doivent chacune suivre une loi normale. L'âge suit la loi normale et on estime pareil pour le prix des billets."
   ]
  },
  {
   "cell_type": "markdown",
   "id": "6a698972",
   "metadata": {},
   "source": [
    "### Calcul des valeurs et prise de décision"
   ]
  },
  {
   "cell_type": "code",
   "execution_count": null,
   "id": "67206099",
   "metadata": {},
   "outputs": [],
   "source": [
    "\n",
    "r, p_valeur = stats.pearsonr(\n",
    "    age,\n",
    "    prix_billets\n",
    ")\n",
    "\n",
    "print(f\"La corrélation entre l'âge et le prix des billets est de {round(r, 3)}.\")\n",
    "\n",
    "if r < 0:\n",
    "    print(\"La corrélation est négative.\")\n",
    "elif r == 0:\n",
    "    print(\"Il n'y a pas de corrélation.\")\n",
    "elif 0 < r < 0.3:\n",
    "    print(\"La corrélation est faible.\")\n",
    "elif 0.3 <= r < 0.6:\n",
    "    print(\"La corrélation est modérée.\")\n",
    "elif 0.6 <= r < 1.0:\n",
    "    print(\"La corrélation est forte.\")\n",
    "\n",
    "print(\"\\n\")\n",
    "\n",
    "print(f\"La p-valeur est: {p_valeur}\")\n",
    "\n",
    "# Si p-valeur < alpha, on rejette l'hypothèse nulle\n",
    "if p_valeur < ALPHA:\n",
    "    print(f\"Avec un seuil alpha à {ALPHA}, on rejette l'hypothèse nulle.\")\n",
    "# Sinon, on ne rejette pas l'hypothèse nulle\n",
    "else:\n",
    "    print(f\"Avec un seuil alpha à {ALPHA}, on ne rejette pas l'hypothèse nulle.\")\n",
    "\n",
    "print(\"\\n\")\n",
    "\n",
    "# taille de l'effet\n",
    "# Calcul de r au carré\n",
    "r_au_carre = r ** 2\n",
    "\n",
    "# Affichage de r au carré\n",
    "print(\"r au carré (coefficient de détermination):\", r_au_carre)\n",
    "\n",
    "# Interprétation de la taille de l'effet\n",
    "if r_au_carre < 0.01:\n",
    "    taille_effet = \"petit effet\"\n",
    "elif r_au_carre < 0.09:\n",
    "    taille_effet = \"effet moyen\"\n",
    "else:\n",
    "    taille_effet = \"grand effet\"\n",
    "\n",
    "print(\"Taille de l'effet:\", taille_effet)\n"
   ]
  },
  {
   "cell_type": "markdown",
   "id": "cb1395d5",
   "metadata": {},
   "source": [
    "### Interprétation des résultats et évalutaion de la taille des effets\n",
    "Il y a une corrélation faible mais statistiquement significative entre l'âge et le prix des billets dans la population.\n",
    "Dans ce cas, la taille d'effet est modérée. La p-valeur extrêmement faible, bien en dessous du seuil alpha de 0.05, permet de rejeter l'hypothèse nulle. Cela signifie que la corrélation observée n'est probablement pas due au hasard. \n",
    "\n",
    "Le coefficient de détermination indique qu'environ 3.37% de la variance dans le prix des billets peut être expliquée par l'âge des passagers. Malgré la corrélation faible, la taille de l'effet est classée comme un \"effet moyen\", ce qui suggère que l'association entre ces deux variables, bien que faible, pourrait avoir une pertinence pratique modérée dans certaines situations."
   ]
  },
  {
   "attachments": {},
   "cell_type": "markdown",
   "id": "740c3ff2",
   "metadata": {},
   "source": [
    "## 3. Data mining (2 pts)"
   ]
  },
  {
   "attachments": {},
   "cell_type": "markdown",
   "id": "6f89920e",
   "metadata": {},
   "source": [
    "**Q1: Effectuer une analyse statistique à l'aide de la régression logistique avec comme variable dépendente la variable `Survived`. Interpréter les coefficients et discuter de leur importance statistique en vous appuyant sur leur p-valeur.**"
   ]
  },
  {
   "cell_type": "markdown",
   "id": "de97011e",
   "metadata": {},
   "source": [
    "Voici la régression logistique de la variable dépendante \"Survived\":"
   ]
  },
  {
   "cell_type": "code",
   "execution_count": null,
   "id": "5784ac0a",
   "metadata": {},
   "outputs": [],
   "source": [
    "# Séparer les features et la target\n",
    "X = data_clean.drop(columns=[\"Survived\"]) # toutes les colonnes sauf var survived, qui est notre target\n",
    "y = data_clean[\"Survived\"]\n",
    "\n",
    "# Générer un model de régression logistique\n",
    "model = sm.Logit(\n",
    "    y,\n",
    "    sm.add_constant(X) # il faut rajouter une constante, qui n'est pas là par défaut\n",
    ")\n",
    "\n",
    "# Fit le model\n",
    "model_fit = model.fit()\n",
    "\n",
    "# Quel est le résumé?\n",
    "print(model_fit.summary())"
   ]
  },
  {
   "cell_type": "markdown",
   "id": "c2c6be93",
   "metadata": {},
   "source": [
    "### Calcul des coefficients et valeurs"
   ]
  },
  {
   "cell_type": "code",
   "execution_count": null,
   "id": "8ad5867f",
   "metadata": {},
   "outputs": [],
   "source": [
    "# On récupère les coefficients\n",
    "coefs = model_fit.params.tolist()\n",
    "\n",
    "\n",
    "print(f\" Les coefficients sont:  {coefs}\")\n",
    "\n",
    "# On calcule le odds ratio\n",
    "odds_ratio = np.exp(model_fit.params)\n",
    "\n",
    "pd.DataFrame(odds_ratio, columns=[\"Odds ratio\"])\n"
   ]
  },
  {
   "cell_type": "markdown",
   "id": "5d3bb40a",
   "metadata": {},
   "source": [
    "L'**odd ratio** peut être défini comme le rapport de côtes de probabilité que le passager soit un survivant ou pas. On l'interprète de la manière suivante:\n",
    "* OR = 1: la survie du passager est indépendante de la variable: Aucun\n",
    "* OR > 1: la survie du passager est plus probable pour la variable: le Prix aura donc un impact fort sur la survie du passager.\n",
    "* OR < 1: la survie du passager n'est pas probable pour la variable: (de l'impact du plus au moins fort) Age, Taille de famille, Embarqué secteur S, Embarqué secteur Q, Pclass, Sexe masculin  auront donc un impact fort sur la survie du passager.\n",
    "\n",
    "La **p-valeur** correspondante pour chaque coefficient teste l'hypothèse nulle que le coefficient est égal à zéro (pas d'effet). Une petite p-valeur (< 0.05) indique que vous pouvez rejeter l'hypothèse nulle.\n",
    "En examinant les coefficients et les p-valeurs trouvés, nous pouvons voir que toutes les variables prédictives ont une p-valeur de 0.000, ce qui indique qu'elles sont toutes statistiquement significatives. Cependant, il faut noter que les coefficients de \"Fare\", \"Embarked_Q\" et \"Embarked_S\" sont très proches de 1, ce qui signifie que leurs effets sur la variable dépendante sont assez faibles. De plus, la p-valeur pour \"Fare\" est de 0.457, ce qui signifie qu'elle n'est pas statistiquement significative à un niveau alpha commun de 0.05. Par conséquent, selon votre décision de seuil, vous pourriez choisir de ne pas inclure \"Fare\" dans votre modèle"
   ]
  },
  {
   "attachments": {},
   "cell_type": "markdown",
   "id": "0d66b468",
   "metadata": {},
   "source": [
    "### Q2: Effectuer une analyse statistique à l'aide d'un arbre de classification avec comme variable dépendante la variable `Survived` et une profondeur maximale de 4. Visualiser l'arbre et expliquer quelques décisions."
   ]
  },
  {
   "cell_type": "markdown",
   "id": "65ea2b66",
   "metadata": {},
   "source": [
    "### Arbre de classification"
   ]
  },
  {
   "cell_type": "markdown",
   "id": "af3601a2",
   "metadata": {},
   "source": [
    "Voici l'arbre de classification de la variable dépendante \"Survived\" d'une profondeur maximale de 4:"
   ]
  },
  {
   "cell_type": "code",
   "execution_count": null,
   "id": "03170f31",
   "metadata": {},
   "outputs": [],
   "source": [
    "# Générer un model d'arbre de classification\n",
    "model = DecisionTreeClassifier(max_depth=4)\n",
    "\n",
    "# On reprend les features X & y de la régression logistique et on fit le model\n",
    "model_fit = model.fit(X, y)\n",
    "\n",
    "# Visualiser l'arbre\n",
    "fig = plt.figure(figsize=(40, 20), dpi=300)\n",
    "_ = plot_tree(\n",
    "    model,\n",
    "    feature_names=X.columns.tolist(),\n",
    "    class_names=[\"survivant\", \"pas survivant\"],\n",
    "    filled=True,\n",
    "    fontsize=12\n",
    ")"
   ]
  },
  {
   "cell_type": "markdown",
   "id": "25c28789",
   "metadata": {},
   "source": [
    "### Explication des décisions\n",
    "\n",
    "L'image fournie illustre un arbre de décision de classification, un modèle d'apprentissage automatique utilisé pour prédire la survie des passagers du Titanic, probablement basé sur un ensemble de données classique. L'arbre utilise des caractéristiques telles que le sexe, l'âge, le tarif du billet et la taille de la famille pour faire des prédictions, avec une profondeur maximale de quatre niveaux.\n",
    "La racine de l'arbre révèle que le sexe est la caractéristique la plus déterminante, les femmes ayant une plus grande probabilité de survie. Pour les passagères, l'âge est le deuxième critère le plus important, en particulier pour les enfants de moins de 2,5 ans. Pour les hommes, le tarif du billet est un indicateur de survie, suggérant que ceux qui ont payé un tarif inférieur ou égal à 26,125 étaient moins susceptibles de survivre. Les niveaux suivants affinent la prédiction en se basant sur la taille de la famille et le tarif pour les deux sexes, reflétant l'impact du statut socio-économique et de la présence familiale.\n",
    "Chaque nœud de l'arbre fournit des informations sur l'impureté de Gini, le nombre d'échantillons, la distribution des classes et la classe prédominante, offrant une prédiction de survie. Cet arbre permet de comprendre les caractéristiques influençant la survie et de prédire l'issue pour un passager donné, tout en reflétant les biais inhérents aux données sur lesquelles il a été entraîné."
   ]
  },
  {
   "attachments": {},
   "cell_type": "markdown",
   "id": "42c0a724",
   "metadata": {},
   "source": [
    "### Conclusion: Interpréter les résultats des deux analyses statistiques et résumer les points importants de votre étude."
   ]
  },
  {
   "cell_type": "markdown",
   "id": "c486ed41",
   "metadata": {},
   "source": [
    "La p-valeur élevée associée à la corrélation entre l'âge et le prix du billet suggère que la survie du passager semble être indépendante de la variable \"Prix\". Cela signifie que, selon l'analyse de corrélation, il n'y a pas de relation linéaire significative entre le prix du billet et la probabilité de survie.\n",
    "La conclusion basée sur l'analyse préliminaire des données suggère que la probabilité de survie des passagers semble être indépendante du prix du billet. Certaines variables, telles que la classe passagère, l'âge et le sexe, montrent des différences significatives dans la probabilité de survie."
   ]
  }
 ],
 "metadata": {
  "kernelspec": {
   "display_name": "Python 3 (ipykernel)",
   "language": "python",
   "name": "python3"
  },
  "language_info": {
   "codemirror_mode": {
    "name": "ipython",
    "version": 3
   },
   "file_extension": ".py",
   "mimetype": "text/x-python",
   "name": "python",
   "nbconvert_exporter": "python",
   "pygments_lexer": "ipython3",
   "version": "3.11.4"
  }
 },
 "nbformat": 4,
 "nbformat_minor": 5
}
