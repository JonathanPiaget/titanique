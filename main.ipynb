{
 "cells": [
  {
   "attachments": {},
   "cell_type": "markdown",
   "id": "7dbba591",
   "metadata": {},
   "source": [
    "# Importer les librairies"
   ]
  },
  {
   "cell_type": "code",
   "execution_count": null,
   "id": "0e1c95d0",
   "metadata": {},
   "outputs": [],
   "source": [
    "import pandas as pd \n",
    "from scipy import stats\n",
    "from scipy.stats import chi2_contingency\n",
    "import numpy as np\n",
    "pd.set_option('mode.chained_assignment', None) # ignorer certains warnings\n",
    "\n",
    "# Data\n",
    "from sklearn import datasets\n",
    "\n",
    "# Visualisation\n",
    "import matplotlib.pyplot as plt\n",
    "import seaborn as sns\n",
    "\n",
    "# Machine learning\n",
    "import statsmodels.api as sm\n",
    "from sklearn.tree import DecisionTreeClassifier, plot_tree"
   ]
  },
  {
   "attachments": {},
   "cell_type": "markdown",
   "id": "3abf0329",
   "metadata": {},
   "source": [
    "# Importer les données"
   ]
  },
  {
   "cell_type": "code",
   "execution_count": null,
   "id": "1066b6ec",
   "metadata": {},
   "outputs": [],
   "source": [
    "data = pd.read_csv(\"./titanic.csv\")\n",
    "data"
   ]
  },
  {
   "attachments": {},
   "cell_type": "markdown",
   "id": "05045c73",
   "metadata": {},
   "source": [
    "# Questions"
   ]
  },
  {
   "attachments": {},
   "cell_type": "markdown",
   "id": "a164d862",
   "metadata": {},
   "source": [
    "## 1. Préparation des données\n",
    "\n",
    "Remplissez la function `preprocess` ci-dessus. Celle-ci doit:\n",
    "1. Supprimez les colonnes `PassengerId`, `Name`, `Ticket`, `Cabin`.\n",
    "2. Supprimez les lignes contenant au moins une valeur manquante.\n",
    "3. Créer une variable `FamilySize` qui est correspond à `SibSp` + `Parch` + 1. Supprimez les variables `SibSp` et `Parch`.\n",
    "4. Recalculer le prix du billet `Fare` en divisant `Fare` par `FamilySize`.\n",
    "5. Encoder les variables qualitatives `Sex` et `Embarked` avec l'argument `drop_first=True`."
   ]
  },
  {
   "cell_type": "code",
   "execution_count": null,
   "id": "d4299600",
   "metadata": {},
   "outputs": [],
   "source": [
    "def preprocess(data: pd.DataFrame) -> pd.DataFrame:\n",
    "    \n",
    "    \"\"\"La fonction prépare les données à l'analyse.\n",
    "    \n",
    "    Args:\n",
    "        data (pd.DataFrame): La dataframe originale\n",
    "        \n",
    "    Returns:\n",
    "        pd.DataFrame: La dataframe preprocessé et prête à être analysée.\n",
    "    \"\"\"\n",
    "    \n",
    "    # Faire une copy de la dataframe originale\n",
    "    data_preprocessed = data.copy()\n",
    "    \n",
    "    # Supprimez les variables `PassengerId`, `Name`, `Ticket` & `Cabin`\n",
    "    data_preprocessed.drop(columns=['PassengerId', 'Name', 'Ticket', 'Cabin'], inplace=True)\n",
    "    \n",
    "    # Supprimez lignes contenant au moins une valeur manquante\n",
    "    data_preprocessed.dropna(axis=0, inplace=True) # on supprime les lignes (axe 0) et pas les colonnes \n",
    "    \n",
    "    # Créer une variable `FamilySize` et supprimez les variables `SibSp` et `Parch`\n",
    "    data_preprocessed['FamilySize'] = data['SibSp'] + data['Parch'] + 1\n",
    "    data_preprocessed.drop(columns=['SibSp', 'Parch'], inplace=True)\n",
    "    \n",
    "    # Recalculer le prix du billet\n",
    "    data_preprocessed['Fare'] = data_preprocessed['Fare'] / data_preprocessed['FamilySize']\n",
    "    \n",
    "    # Encoded (OHE) `Sex` et `Embarked`\n",
    "    data_preprocessed = pd.get_dummies(data_preprocessed, columns=['Sex', 'Embarked'], drop_first=True, dtype=int)\n",
    "    \n",
    "    \n",
    "    # CHECK: NE PAS TOUCHER\n",
    "    for col in [\"PassengerId\", \"Name\", \"Ticket\", \"Cabin\", \"SibSp\", \"Parch\"]:\n",
    "        assert col not in data_preprocessed, f\"{col} n'a pas été retiré.\"\n",
    "    assert data_preprocessed.isna().sum().sum() == 0, \"Il reste encore des NaN à supprimer.\"\n",
    "    assert \"FamilySize\" in data_preprocessed.columns, \"La colonne `FamilySize` n'a pas été créée.\"\n",
    "    assert data_preprocessed.loc[0, \"Fare\"] == 3.625, \"La colonne `Fare` n'a pas été recalculée.\"\n",
    "    for col in [col for col in data_preprocessed if col.startswith(\"Embarked\")]:\n",
    "        assert data_preprocessed[col].nunique() == 2, f\"{col} n'a pas été encodé.\"\n",
    "    for col in [col for col in data_preprocessed if col.startswith(\"Sex\")]:\n",
    "        assert data_preprocessed[col].nunique() == 2, f\"{col} n'a pas été encodé.\"\n",
    "    \n",
    "    return data_preprocessed"
   ]
  },
  {
   "attachments": {},
   "cell_type": "markdown",
   "id": "35ca88d2",
   "metadata": {},
   "source": [
    "Le résultat de la function doit vous donner exactement le tableau ci-dessous."
   ]
  },
  {
   "cell_type": "code",
   "execution_count": null,
   "id": "53b7ef06",
   "metadata": {},
   "outputs": [],
   "source": [
    "# Preprocess les données à l'aide de la function `preprocess`\n",
    "data_clean = preprocess(data)\n",
    "display(data_clean)"
   ]
  },
  {
   "attachments": {},
   "cell_type": "markdown",
   "id": "5a1091b1",
   "metadata": {},
   "source": [
    "## 2. Inférence statistique (4 pts)"
   ]
  },
  {
   "cell_type": "code",
   "execution_count": null,
   "id": "b91665cb",
   "metadata": {},
   "outputs": [],
   "source": [
    "# variables globales\n",
    "ALPHA = 0.05"
   ]
  },
  {
   "attachments": {},
   "cell_type": "markdown",
   "id": "93fdb7b6",
   "metadata": {},
   "source": [
    "### Q1: L'âge moyen des passagers du Titanic est-il est le même que l'âge moyen de la population en 1912 (28 ans)?"
   ]
  },
  {
   "cell_type": "markdown",
   "id": "69c6353f",
   "metadata": {},
   "source": [
    "### Variable d'intérêt\n",
    "La variable d'intérêt ici est \"Age\", qui est une variable quantitative continue."
   ]
  },
  {
   "cell_type": "markdown",
   "id": "9fd6d0ce",
   "metadata": {},
   "source": [
    "### Visualisation de la variable"
   ]
  },
  {
   "cell_type": "code",
   "execution_count": null,
   "id": "63e078da",
   "metadata": {},
   "outputs": [],
   "source": [
    "plt.hist(data_clean['Age'], bins=30, edgecolor='black', color='skyblue', density=True)\n",
    "sns.kdeplot(ages, color='red')\n",
    "plt.title('Distribution des âges des passagers du Titanic')\n",
    "plt.xlabel('Âge')\n",
    "plt.ylabel('Fréquence')\n",
    "plt.show()"
   ]
  },
  {
   "cell_type": "markdown",
   "id": "dec55e4c",
   "metadata": {},
   "source": [
    "L'histogramme illustre une distribution des âges avec une concentration élevée de passagers dans la tranche d'âge 20-30 ans, suggérant que l'âge moyen pourrait être proche de l'âge moyen de la population en 1912, qui était de 28 ans."
   ]
  },
  {
   "cell_type": "markdown",
   "id": "a5bf00a0",
   "metadata": {},
   "source": [
    "### Hypothèse nulle et alternative\n",
    "H0: μ = 28\n",
    "H1: μ != 28\n",
    "\n",
    "### Test statistique approprié\n",
    "Le test statistique approprié pour comparer l'âge moyen des passagers du Titanic à l'âge moyen connu de la population en 1912 est le One-Sample t-test (t-test pour une moyenne). Ce choix est justifié par le fait que nous disposons d'une valeur moyenne spécifique pour la population (28 ans), mais que la variance de la population est inconnue, ce qui est une condition préalable standard pour l'application du One-Sample t-test."
   ]
  },
  {
   "cell_type": "markdown",
   "id": "86a1ef82",
   "metadata": {},
   "source": [
    "### Validation des assumptions\n",
    "- Les données sont obtenues d'une manière aléatoire : Les passagers du Titanic ne représentent pas un échantillon aléatoire au sens strict du terme, ils n'ont pas été choisis pour faire partie du jeu de données en raison d'un processus d'échantillonnage aléatoire. Pour des besoins d'analyse, cela est suffisant car aucune personne n'a été sélectionnée ou exlclue de la liste des passagers en fonction de leur âge.\n",
    "- L'échantillon est suffisamment grand : Il y a 712 lignes dans nos données d'analyse, ce qui est plus grand que 30 et donc suffisant."
   ]
  },
  {
   "cell_type": "markdown",
   "id": "603d1744",
   "metadata": {},
   "source": [
    "### Calcul des valeurs et prise de décision"
   ]
  },
  {
   "cell_type": "code",
   "execution_count": null,
   "id": "e091a556",
   "metadata": {},
   "outputs": [],
   "source": [
    "# moyenne de l'âge de la population en 1912\n",
    "mu = 28\n",
    "# âge des passagers du Titanic\n",
    "age = data_clean['Age']\n",
    "\n",
    "t, p_valeur = stats.ttest_1samp(age, popmean=mu)\n",
    "sample_mean = np.mean(age)\n",
    "d_cohen = (sample_mean - mu) / np.std(age)\n",
    "\n",
    "print(f\"La statistique t est de : {round(t, 3)}\")\n",
    "print(f\"La p-valeur associée est de : {round(p_valeur, 3)}\")\n",
    "if p_valeur < ALPHA:\n",
    "    print(f\"Avec un seuil alpha {ALPHA}, on rejète l'hypothèse nulle.\")\n",
    "else:\n",
    "    print(f\"Avec un seuil alpha {ALPHA}, on ne rejète pas l'hypothèse nulle.\")\n",
    "print(f\"Moyenne d'âge de l'échantillon : {round(sample_mean, 3)}\")\n",
    "print(f\"Taille de l'effet (d de Cohen) : {round(d_cohen, 3)}\")\n",
    "if d_cohen < 0.2:\n",
    "    print(\"La taille de l'effet est considérée comme petite.\")\n",
    "elif 0.2 <= d_cohen < 0.5:\n",
    "    print(\"La taille de l'effet est considérée comme moyenne.\")\n",
    "elif 0.5 < d_cohen < 0.8:\n",
    "    print(\"La taille de l'effet est considérée comme grande.\")\n",
    "else:\n",
    "    print(\"La taille de l'effet est considérée comme très grande.\")"
   ]
  },
  {
   "cell_type": "markdown",
   "id": "f7053031",
   "metadata": {},
   "source": [
    "### Interprétation des résultats et évaluation de la taille des effets\n",
    "L'âge moyen des passagers du Titanic est statistiquement significativement différent de 28 ans, mais avec une taille d'effet petite.\n",
    "\n",
    "Cela pourrait suggérer que l'âge des passagers du Titanic reflétait assez bien la distribution des âges dans la population en général en 1912, même si l'âge moyen était légèrement différent."
   ]
  },
  {
   "attachments": {},
   "cell_type": "markdown",
   "id": "7ec7b55f",
   "metadata": {},
   "source": [
    "### Q2: La survie dépend-elle de la classe du passager?"
   ]
  },
  {
   "cell_type": "markdown",
   "id": "58f2fa66",
   "metadata": {},
   "source": [
    "### Variables d'intérêt\n",
    "Les variables d'intérêts sont la variable de survie et la classe du passager. Ces deux variables sont qualitatives: nominale pour \"Survived\" et ordinale pour \"Pclass\".\n",
    "\n",
    "### Visualisation des variables"
   ]
  },
  {
   "cell_type": "code",
   "execution_count": null,
   "id": "6fef0c6d",
   "metadata": {},
   "outputs": [],
   "source": [
    "\n",
    "survival_data = data_clean.groupby(['Pclass', 'Survived']).size().unstack()\n",
    "\n",
    "# Creating a bar plot\n",
    "fig, ax = plt.subplots()\n",
    "survival_data.plot(kind='bar', stacked=True, ax=ax, color=['red', 'green'])\n",
    "\n",
    "# Customizing the plot\n",
    "ax.set_xlabel('Classe des passager')\n",
    "ax.set_ylabel('Nombre de passagers')\n",
    "ax.set_title('Nombre de passagers survivants et non-survivants par classe')\n",
    "ax.legend([\"Non-survivants\", \"Survivants\"])"
   ]
  },
  {
   "cell_type": "markdown",
   "id": "1c0defe9",
   "metadata": {},
   "source": [
    "\n",
    "### Hypothèse nulle et alternative\n",
    "H0: μ = La survie d'un passager et le type de sa classe sont indépendants l'un de l'autre.\n",
    "H1: μ != La survie d'un passager et le type de sa classe ne sont pas indépendants l'un de l'autre.\n",
    "### Test statistique approprié\n",
    "Le test statistique approprié ici est le 𝜒2 independence test ou \"chi-square\".\n",
    "### Validation des assumptions\n",
    "Les assumptions suivantes sont validées pour ce test:\n",
    "- Les échantillons sont aléatoires.\n",
    "- Pour chaque combinaison des niveaux des variables, nous avons besoin d’au moins 5 valeurs.\n"
   ]
  },
  {
   "cell_type": "markdown",
   "id": "f54e4ce1",
   "metadata": {},
   "source": [
    "### Calcul des valeurs et prise de décision"
   ]
  },
  {
   "cell_type": "code",
   "execution_count": null,
   "id": "3bd1316a",
   "metadata": {},
   "outputs": [],
   "source": [
    "# Créer un tableau de contingence pour les variables \"Survived\" et \"Pclass\"\n",
    "contingency_table = pd.crosstab(data_clean['Survived'], data_clean['Pclass'])\n",
    "\n",
    "# Effectuer le test du chi-carré\n",
    "chi2, p, _, _ = chi2_contingency(contingency_table)\n",
    "\n",
    "\n",
    "# Calcul de la taille de l'effet Cramer's V\n",
    "n = data_clean.shape[0]  # Taille totale de l'échantillon\n",
    "k, r = contingency_table.shape  # Nombre de colonnes et de lignes dans le tableau\n",
    "# Calcul du coefficient de Cramer\n",
    "cramers_v = np.sqrt(chi2 / (n * (min(k, r) - 1)))\n",
    "\n",
    "# Afficher les résultats\n",
    "print(f\"La statistique du test Chi-Squared : {round(chi2, 3)}\")\n",
    "print(f\"La p-valeur associée est de : {p}\")\n",
    "\n",
    "# Interpréter les résultats\n",
    "if p < ALPHA:\n",
    "    print(\"Il y a une association significative entre les personnes qui ont survécus et leur classe passager.\")\n",
    "else:\n",
    "    print(\"Il n'y a pas de preuve significative d'association entre les personnes qui ont survécus et leur classe passager.\")\n",
    "    \n",
    "if cramers_v <= 0.2:\n",
    "    print(\"La taille de l'effet est considérée comme petite.\")\n",
    "elif 0.2 < cramers_v <= 0.6:\n",
    "    print(\"La taille de l'effet est considérée comme moyenne.\")\n",
    "elif 0.6 < cramers_v <= 1:\n",
    "    print(\"La taille de l'effet est considérée comme grande.\")\n"
   ]
  },
  {
   "cell_type": "markdown",
   "id": "e0dc702b",
   "metadata": {},
   "source": [
    "### Interprétation des résultats et évaluation de la taille des effets\n",
    "Il existe une association statistiquement significative de force moyenne entre la classe des passagers et leur taux de survie.\n",
    "La taille de l'effet est considérée comme moyenne suggère que la classe du passager a effectiement une influence modérée par rapport à la survie de ce dernier."
   ]
  },
  {
   "attachments": {},
   "cell_type": "markdown",
   "id": "6dba1f3c",
   "metadata": {},
   "source": [
    "### Q3: Existe-t-il une différence d'âge entre les passagers qui ont survécu et les passagers décédés?"
   ]
  },
  {
   "cell_type": "markdown",
   "id": "92c21854",
   "metadata": {},
   "source": [
    "### Variables d'intérêt\n",
    "Les variables d'intérêt sont ici Age (variable quantitative continue) et Survived (variable quanlitative catégorielle)\n",
    "\n",
    "### Visualisation des variables"
   ]
  },
  {
   "cell_type": "code",
   "execution_count": null,
   "id": "d9bcdd85",
   "metadata": {},
   "outputs": [],
   "source": [
    "sns.boxplot(\n",
    "    x='Survived', \n",
    "    y='Age', \n",
    "    data=data_clean,\n",
    "    showmeans=True,\n",
    "    hue='Survived',\n",
    "    #legend=False,\n",
    ")\n",
    "plt.title(\"Boxplot for Survived and Age\")\n",
    "plt.xticks(ticks=[0,1], labels=['Died', 'Survived'])"
   ]
  },
  {
   "cell_type": "markdown",
   "id": "45011815",
   "metadata": {},
   "source": [
    "### Hypothèse nulle et alternative\n",
    "Hypothèse nulle (H0) : Il n'y a pas de différence significative entre l'âge des passagers qui ont survécu et ceux qui sont décédés.\n",
    "Hypothèse alternative (H1) : Il y a une différence significative entre l'âge des passagers qui ont survécu et ceux qui sont décédés\n",
    "### Test statistique approprié\n",
    "Le test statistique approprié est le two-sample t-test\n",
    "### Validation des assumptions\n",
    "Les assumptions suivantes sont validées pour ce test:\n",
    "Les échantillons sont aléatoires et pas forcément de même taille\n",
    "Les échantillons sont indépendants les uns des autres.\n",
    "La taille des échantillons est supérieure à 30, ou les populations sont normalement distribuées.\n"
   ]
  },
  {
   "cell_type": "markdown",
   "id": "a660aa6a",
   "metadata": {},
   "source": [
    "### Calcul des valeurs et prise de décision"
   ]
  },
  {
   "cell_type": "code",
   "execution_count": null,
   "id": "751d8dd3",
   "metadata": {},
   "outputs": [],
   "source": [
    "survived = data_clean[data_clean['Survived'] == 1]['Age']\n",
    "died = data_clean[data_clean['Survived'] == 0]['Age']\n",
    "\n",
    "t, p_valeur = stats.ttest_ind(\n",
    "    survived,\n",
    "    died,\n",
    "    alternative=\"two-sided\",\n",
    "    equal_var=False\n",
    ")\n",
    "survived_mean = np.mean(survived)\n",
    "died_mean = np.mean(died)\n",
    "variance_survived = np.var(survived, ddof=1)\n",
    "variance_died = np.var(died, ddof=1)\n",
    "n_survived = len(survived)\n",
    "n_died = len(died)\n",
    "d_cohen = (np.mean(survived) - np.mean(died)) / np.sqrt(((n_survived-1)*variance_survived + (n_died-1)*variance_died) / (n_survived+n_died-2))\n",
    "\n",
    "print(f\"La moyenne d'âge des survivants est de : {round(survived_mean, 3)}\")\n",
    "print(f\"La moyenne d'âge des non-survivants est de : {round(died_mean, 3)}\")\n",
    "print(f\"La statistique t est de : {round(t, 3)}\")\n",
    "print(f\"La p-valeur associée est de : {round(p_valeur, 3)}\")\n",
    "if p_valeur < ALPHA:\n",
    "    print(F\"Avec un seuil alpha {ALPHA}, on rejète l'hypothèse nulle.\")\n",
    "else:\n",
    "    print(f\"Avec un seuil alpha {ALPHA}, on ne rejète pas l'hypothèse nulle.\")\n",
    "print(f\"Taille de l'effet (d de Cohen) : {round(d_cohen, 3)}\")"
   ]
  },
  {
   "cell_type": "markdown",
   "id": "8ed09adf",
   "metadata": {},
   "source": [
    "### Interprétation des résultats et évalutaion de la taille des effets\n",
    "Il semble y avoir une différence significative entre l'âge des passagers qui ont survécus et ceux qui sont décédés lors du naufrage, les survivants étant en moyenne plus jeunes. \n",
    "Malgré cela, l'âge n'a pas forcément directement influencé les chances de survie. \n",
    "Le d de Cohen suggère qu'il y a une petite différence statistiquement significative entre l'âge moyen des survivants et des non-survivants sur le Titanic."
   ]
  },
  {
   "attachments": {},
   "cell_type": "markdown",
   "id": "5425c746",
   "metadata": {},
   "source": [
    "### Q4: Existe-t-il une relation entre l'âge des passagers et le prix des billets?"
   ]
  },
  {
   "cell_type": "markdown",
   "id": "078fa61a",
   "metadata": {},
   "source": [
    "### Variables d'intérêt\n",
    "Les variables d'intérêt sont dans ce cas l'âge des passagers et le prix des billets, toutes deux des variables quantitatives.\n",
    "\n",
    "### Visualisation des variables"
   ]
  },
  {
   "cell_type": "code",
   "execution_count": null,
   "id": "712a08b5",
   "metadata": {},
   "outputs": [],
   "source": [
    "# Sélectionner les colonnes âge et prix des billets\n",
    "age = data_clean['Age']\n",
    "prix_billets = data_clean['Fare']\n",
    "\n",
    "outlier = data_clean[data_clean['Fare'] > 500] # suppression valeurs abberantes\n",
    "\n",
    "prix_billets = prix_billets.drop(outlier.index)\n",
    "age = age.drop(outlier.index)\n",
    "\n",
    "# Tracer le nuage de points pour la visualisation\n",
    "plt.scatter(age, prix_billets)\n",
    "plt.xlabel('Âge des passagers')\n",
    "plt.ylabel('Prix des billets')\n",
    "plt.title('Nuage de points : Âge vs Prix des billets')\n",
    "plt.show()\n"
   ]
  },
  {
   "cell_type": "markdown",
   "id": "35cc1f1f",
   "metadata": {},
   "source": [
    "### Hypothèse nulle et alternative\n",
    "H0: p = 0, il n'y pas de corrélation significative entre l'âge et le prix des billets.\n",
    "H1:p ≠ 0, il y a une corrélation significative entre l'âge et le prix des billets.\n",
    "\n",
    "### Test statistique approprié\n",
    "Le test statistique approprié est le t-test\n",
    "\n",
    "### Validation des assumptions\n",
    "Les assumptions suivantes sont validées pour ce test:\n",
    "Les données sont quantitatives et sont obtenues à partir d'un échantillon aléatoire.\n",
    "Le scatter plot montre que les données sont approximativement liées linéairement.\n",
    "Il n'y a pas de valeurs abberantes dans les données.\n",
    "Les variables doivent chacune suivre une loi normale.\n",
    "\n"
   ]
  },
  {
   "cell_type": "markdown",
   "id": "6a698972",
   "metadata": {},
   "source": [
    "### Calcul des valeurs et prise de décision"
   ]
  },
  {
   "cell_type": "code",
   "execution_count": null,
   "id": "67206099",
   "metadata": {},
   "outputs": [],
   "source": [
    "\n",
    "# Calcul des variables\n",
    "var1 = data_clean[\"Age\"]\n",
    "var2 = data_clean[\"Fare\"]\n",
    "r = var1.corr(var2) # la corrélation entre les 2 variables\n",
    "n = len(var1) # la taille de l'échantillon\n",
    "\n",
    "# Calcul t-test\n",
    "r, p_valeur = stats.pearsonr(\n",
    "    var1, # `âge`\n",
    "    var2 # `prix des billets`\n",
    ")\n",
    "\n",
    "# Afficher les valeurs\n",
    "\n",
    "print(f\"La corrélation entre l'âge et le prix des billets est de {r}.\")\n",
    "\n",
    "print(\"\\n\")\n",
    "\n",
    "print(\"La p-valeur est:\", p_valeur)\n",
    "\n",
    "# Si p-valeur < alpha, on rejette l'hypothèse nulle\n",
    "if p_valeur < ALPHA:\n",
    "    print(f\"Avec un seuil alpha à {ALPHA}, on rejette l'hypothèse nulle.\")\n",
    "# Sinon, on ne rejette pas l'hypothèse nulle\n",
    "else:\n",
    "    print(f\"Avec un seuil alpha à {ALPHA}, on ne rejette pas l'hypothèse nulle.\")\n",
    "\n",
    "# Interprétation des résultats et évaluation de la taille de l'effet\n",
    "valeur_reference=20\n",
    "mean_difference = np.mean(var1) - valeur_reference\n",
    "std_deviation = np.std(var1, ddof=1)  # Utiliser ddof=1 pour calculer l'écart-type de l'échantillon (n-1)\n",
    "effect_size = mean_difference / std_deviation\n",
    "\n",
    "# Afficher les résultats\n",
    "print(f\"Taille de l'effet (Cohen's d) : {effect_size}\")\n",
    "\n"
   ]
  },
  {
   "cell_type": "markdown",
   "id": "cb1395d5",
   "metadata": {},
   "source": [
    "### Interprétation des résultats et évalutaion de la taille des effets\n",
    "Il y a une corrélation significative entre l'âge et le prix des billets dans la population.\n",
    "Dans ce cas, la taille d'effet est modérée. Cela indique qu'il existe une relation modérée entre l'âge des passagers et le prix des billets, selon les résultats de notre t-test."
   ]
  },
  {
   "attachments": {},
   "cell_type": "markdown",
   "id": "29f6871f",
   "metadata": {},
   "source": [
    "Pour chacune des questions 1 à 4 ci-dessus, argumenter de manière statistique en effectuant chacune des étapes suivantes:\n",
    "1. Identifier la ou les variables d'intérêt et spécifier le type.\n",
    "2. Réaliser une visualisation appropriée selon la ou les variables.\n",
    "3. Enoncer une hypothèse nulle et une hypothèse alternative considérant la ou les variables identifiées.\n",
    "4. Identifier le test statistique approprié selon les hypothèses énoncées.\n",
    "5. Vérifier la validation des assumptions selon le test identifié.\n",
    "6. Calculer la statistique ainsi que la p-valeur.\n",
    "7. Prendre une décision à partir de la p-valeur et d'un seuil alpha de 5%.\n",
    "8. Interpréter le résultat et évaluer la taille de l'effet."
   ]
  },
  {
   "attachments": {},
   "cell_type": "markdown",
   "id": "493516ca",
   "metadata": {},
   "source": [
    "Quelques liens utiles pour la taille de l'effet:\n",
    "* [https://rpsychologist.com/cohend/](https://rpsychologist.com/cohend/)\n",
    "* [https://datatab.net/tutorial/effect-size-independent-t-test](https://datatab.net/tutorial/effect-size-independent-t-test)\n",
    "* [https://www.simplypsychology.org/effect-size.html](https://www.simplypsychology.org/effect-size.html)"
   ]
  },
  {
   "attachments": {},
   "cell_type": "markdown",
   "id": "740c3ff2",
   "metadata": {},
   "source": [
    "## 3. Data mining (2 pts)"
   ]
  },
  {
   "attachments": {},
   "cell_type": "markdown",
   "id": "6f89920e",
   "metadata": {},
   "source": [
    "**Q1: Effectuer une analyse statistique à l'aide de la régression logistique avec comme variable dépendente la variable `Survived`. Interpréter les coefficients et discuter de leur importance statistique en vous appuyant sur leur p-valeur.**"
   ]
  },
  {
   "cell_type": "markdown",
   "id": "de97011e",
   "metadata": {},
   "source": [
    "Voici la régression logistique de la variable dépendante \"Survived\":"
   ]
  },
  {
   "cell_type": "code",
   "execution_count": null,
   "id": "5784ac0a",
   "metadata": {},
   "outputs": [],
   "source": [
    "# Séparer les features et la target\n",
    "X = data_clean.drop(columns=[\"Survived\"]) # toutes les colonnes sauf var survived, qui est notre target\n",
    "y = data_clean[\"Survived\"]\n",
    "\n",
    "# Générer un model de régression logistique\n",
    "model = sm.Logit(\n",
    "    y,\n",
    "    sm.add_constant(X) # il faut rajouter une constante, qui n'est pas là par défaut\n",
    ")\n",
    "\n",
    "# Fit le model\n",
    "model_fit = model.fit()\n",
    "\n",
    "# Quel est le résumé?\n",
    "print(model_fit.summary())"
   ]
  },
  {
   "cell_type": "markdown",
   "id": "c2c6be93",
   "metadata": {},
   "source": [
    "### Calcul des coefficients et valeurs"
   ]
  },
  {
   "cell_type": "code",
   "execution_count": null,
   "id": "8ad5867f",
   "metadata": {},
   "outputs": [],
   "source": [
    "# On récupère les coefficients\n",
    "coefs = model_fit.params.tolist()\n",
    "\n",
    "\n",
    "print(f\" Les coefficients sont:  {coefs}\")\n",
    "\n",
    "# On calcule le odds ratio\n",
    "odds_ratio = np.exp(model_fit.params)\n",
    "\n",
    "pd.DataFrame(odds_ratio, columns=[\"Odds ratio\"])\n"
   ]
  },
  {
   "cell_type": "markdown",
   "id": "5d3bb40a",
   "metadata": {},
   "source": [
    "L'**odd ratio** peut être défini comme le rapport de côtes de probabilité que le passager soit un survivant ou pas. On l'interprète de la manière suivante:\n",
    "* OR = 1: la survie du passager est indépendante de la variable : Prix\n",
    "* OR > 1: la survie du passager est plus probable pour la variable: Aucun\n",
    "* OR < 1: la survie du passager n'est pas probable pour la variable: Classe passagère, Age, Taille de famille, Sexe masculin, Embarqué secteur Q, Embarqué secteur S\n",
    "\n",
    "La **p-valeur** est la probabilité pour un modèle statistique donné sous l'hypothèse nulle d'obtenir une valeur au moins aussi extrême que celle observée. On l'interprète de manière suivante:\n",
    "* Soit p>0,05: la différence n'est pas significative, on ne peut pas conclure à une différence pour les variables: Prix, taille de famille, Embarqué secteur Q, Embarqué secteur S.\n",
    "* Soit p≤0,05: la différence est significative, le risque pris est précisé, sa valeur est appelée degré de signification pour les variables: Classe passagère, Age, Sexe masculin."
   ]
  },
  {
   "attachments": {},
   "cell_type": "markdown",
   "id": "0d66b468",
   "metadata": {},
   "source": [
    "### Q2: Effectuer une analyse statistique à l'aide d'un arbre de classification avec comme variable dépendente la variable `Survived` et une profondeur maximale de 4. Visualiser l'arbre et expliquer quelques décisions."
   ]
  },
  {
   "cell_type": "markdown",
   "id": "65ea2b66",
   "metadata": {},
   "source": [
    "### Arbre de classification"
   ]
  },
  {
   "cell_type": "markdown",
   "id": "af3601a2",
   "metadata": {},
   "source": [
    "Voici l'arbre de classification de la variable dépendante \"Survived\" d'une profondeur maximale de 4:"
   ]
  },
  {
   "cell_type": "code",
   "execution_count": null,
   "id": "03170f31",
   "metadata": {},
   "outputs": [],
   "source": [
    "# Générer un model d'arbre de classification\n",
    "model = DecisionTreeClassifier(max_depth=4)\n",
    "\n",
    "# On reprend les features X & y de la régression logistique et on fit le model\n",
    "model_fit = model.fit(X, y)\n",
    "\n",
    "# Visualiser l'arbre\n",
    "fig = plt.figure(figsize=(40, 20), dpi=300)\n",
    "_ = plot_tree(\n",
    "    model,\n",
    "    feature_names=X.columns.tolist(),\n",
    "    class_names=[\"survivant\", \"pas survivant\"],\n",
    "    filled=True,\n",
    "    fontsize=12\n",
    ")"
   ]
  },
  {
   "cell_type": "markdown",
   "id": "25c28789",
   "metadata": {},
   "source": [
    "### Explication des décisions\n",
    "\n",
    "L'image fournie illustre un arbre de décision de classification, un modèle d'apprentissage automatique utilisé pour prédire la survie des passagers du Titanic, probablement basé sur un ensemble de données classique. L'arbre utilise des caractéristiques telles que le sexe, l'âge, le tarif du billet et la taille de la famille pour faire des prédictions, avec une profondeur maximale de quatre niveaux.\n",
    "La racine de l'arbre révèle que le sexe est la caractéristique la plus déterminante, les femmes ayant une plus grande probabilité de survie. Pour les passagères, l'âge est le deuxième critère le plus important, en particulier pour les enfants de moins de 2,5 ans. Pour les hommes, le tarif du billet est un indicateur de survie, suggérant que ceux qui ont payé un tarif inférieur ou égal à 26,125 étaient moins susceptibles de survivre. Les niveaux suivants affinent la prédiction en se basant sur la taille de la famille et le tarif pour les deux sexes, reflétant l'impact du statut socio-économique et de la présence familiale.\n",
    "Chaque nœud de l'arbre fournit des informations sur l'impureté de Gini, le nombre d'échantillons, la distribution des classes et la classe prédominante, offrant une prédiction de survie. Cet arbre permet de comprendre les caractéristiques influençant la survie et de prédire l'issue pour un passager donné, tout en reflétant les biais inhérents aux données sur lesquelles il a été entraîné."
   ]
  },
  {
   "attachments": {},
   "cell_type": "markdown",
   "id": "42c0a724",
   "metadata": {},
   "source": [
    "### Conclusion: Interpréter les résultats des deux analyses statistiques et résumer les points importants de votre étude."
   ]
  },
  {
   "cell_type": "markdown",
   "id": "c486ed41",
   "metadata": {},
   "source": [
    "La p-valeur élevée associée à la corrélation entre l'âge et le prix du billet suggère que la survie du passager semble être indépendante de la variable \"Prix\". Cela signifie que, selon l'analyse de corrélation, il n'y a pas de relation linéaire significative entre le prix du billet et la probabilité de survie.\n",
    "La conclusion basée sur l'analyse préliminaire des données suggère que la probabilité de survie des passagers semble être indépendante du prix du billet. Certaines variables, telles que la classe passagère, l'âge et le sexe, montrent des différences significatives dans la probabilité de survie. Cependant, des analyses statistiques plus approfondies sont nécessaires pour confirmer ces observations et évaluer plus précisément l'impact de chaque variable sur la survie des passagers."
   ]
  }
 ],
 "metadata": {
  "kernelspec": {
   "display_name": "Python 3 (ipykernel)",
   "language": "python",
   "name": "python3"
  },
  "language_info": {
   "codemirror_mode": {
    "name": "ipython",
    "version": 3
   },
   "file_extension": ".py",
   "mimetype": "text/x-python",
   "name": "python",
   "nbconvert_exporter": "python",
   "pygments_lexer": "ipython3",
   "version": "3.11.4"
  }
 },
 "nbformat": 4,
 "nbformat_minor": 5
}
