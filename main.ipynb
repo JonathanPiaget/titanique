{
 "cells": [
  {
   "attachments": {},
   "cell_type": "markdown",
   "id": "7dbba591",
   "metadata": {},
   "source": [
    "# Importer les librairies"
   ]
  },
  {
   "cell_type": "code",
   "execution_count": 29,
   "id": "0e1c95d0",
   "metadata": {},
   "outputs": [],
   "source": [
    "import pandas as pd \n",
    "import matplotlib.pyplot as plt\n",
    "import seaborn as sns\n",
    "from scipy import stats\n",
    "from scipy.stats import chi2_contingency\n",
    "from scipy.stats import pearsonr\n",
    "import numpy as np"
   ]
  },
  {
   "attachments": {},
   "cell_type": "markdown",
   "id": "3abf0329",
   "metadata": {},
   "source": [
    "# Importer les données"
   ]
  },
  {
   "cell_type": "code",
   "execution_count": 30,
   "id": "1066b6ec",
   "metadata": {},
   "outputs": [
    {
     "data": {
      "text/html": [
       "<div>\n",
       "<style scoped>\n",
       "    .dataframe tbody tr th:only-of-type {\n",
       "        vertical-align: middle;\n",
       "    }\n",
       "\n",
       "    .dataframe tbody tr th {\n",
       "        vertical-align: top;\n",
       "    }\n",
       "\n",
       "    .dataframe thead th {\n",
       "        text-align: right;\n",
       "    }\n",
       "</style>\n",
       "<table border=\"1\" class=\"dataframe\">\n",
       "  <thead>\n",
       "    <tr style=\"text-align: right;\">\n",
       "      <th></th>\n",
       "      <th>PassengerId</th>\n",
       "      <th>Survived</th>\n",
       "      <th>Pclass</th>\n",
       "      <th>Name</th>\n",
       "      <th>Sex</th>\n",
       "      <th>Age</th>\n",
       "      <th>SibSp</th>\n",
       "      <th>Parch</th>\n",
       "      <th>Ticket</th>\n",
       "      <th>Fare</th>\n",
       "      <th>Cabin</th>\n",
       "      <th>Embarked</th>\n",
       "    </tr>\n",
       "  </thead>\n",
       "  <tbody>\n",
       "    <tr>\n",
       "      <th>0</th>\n",
       "      <td>1</td>\n",
       "      <td>0</td>\n",
       "      <td>3</td>\n",
       "      <td>Braund, Mr. Owen Harris</td>\n",
       "      <td>male</td>\n",
       "      <td>22.0</td>\n",
       "      <td>1</td>\n",
       "      <td>0</td>\n",
       "      <td>A/5 21171</td>\n",
       "      <td>7.2500</td>\n",
       "      <td>NaN</td>\n",
       "      <td>S</td>\n",
       "    </tr>\n",
       "    <tr>\n",
       "      <th>1</th>\n",
       "      <td>2</td>\n",
       "      <td>1</td>\n",
       "      <td>1</td>\n",
       "      <td>Cumings, Mrs. John Bradley (Florence Briggs Th...</td>\n",
       "      <td>female</td>\n",
       "      <td>38.0</td>\n",
       "      <td>1</td>\n",
       "      <td>0</td>\n",
       "      <td>PC 17599</td>\n",
       "      <td>71.2833</td>\n",
       "      <td>C85</td>\n",
       "      <td>C</td>\n",
       "    </tr>\n",
       "    <tr>\n",
       "      <th>2</th>\n",
       "      <td>3</td>\n",
       "      <td>1</td>\n",
       "      <td>3</td>\n",
       "      <td>Heikkinen, Miss. Laina</td>\n",
       "      <td>female</td>\n",
       "      <td>26.0</td>\n",
       "      <td>0</td>\n",
       "      <td>0</td>\n",
       "      <td>STON/O2. 3101282</td>\n",
       "      <td>7.9250</td>\n",
       "      <td>NaN</td>\n",
       "      <td>S</td>\n",
       "    </tr>\n",
       "    <tr>\n",
       "      <th>3</th>\n",
       "      <td>4</td>\n",
       "      <td>1</td>\n",
       "      <td>1</td>\n",
       "      <td>Futrelle, Mrs. Jacques Heath (Lily May Peel)</td>\n",
       "      <td>female</td>\n",
       "      <td>35.0</td>\n",
       "      <td>1</td>\n",
       "      <td>0</td>\n",
       "      <td>113803</td>\n",
       "      <td>53.1000</td>\n",
       "      <td>C123</td>\n",
       "      <td>S</td>\n",
       "    </tr>\n",
       "    <tr>\n",
       "      <th>4</th>\n",
       "      <td>5</td>\n",
       "      <td>0</td>\n",
       "      <td>3</td>\n",
       "      <td>Allen, Mr. William Henry</td>\n",
       "      <td>male</td>\n",
       "      <td>35.0</td>\n",
       "      <td>0</td>\n",
       "      <td>0</td>\n",
       "      <td>373450</td>\n",
       "      <td>8.0500</td>\n",
       "      <td>NaN</td>\n",
       "      <td>S</td>\n",
       "    </tr>\n",
       "    <tr>\n",
       "      <th>...</th>\n",
       "      <td>...</td>\n",
       "      <td>...</td>\n",
       "      <td>...</td>\n",
       "      <td>...</td>\n",
       "      <td>...</td>\n",
       "      <td>...</td>\n",
       "      <td>...</td>\n",
       "      <td>...</td>\n",
       "      <td>...</td>\n",
       "      <td>...</td>\n",
       "      <td>...</td>\n",
       "      <td>...</td>\n",
       "    </tr>\n",
       "    <tr>\n",
       "      <th>886</th>\n",
       "      <td>887</td>\n",
       "      <td>0</td>\n",
       "      <td>2</td>\n",
       "      <td>Montvila, Rev. Juozas</td>\n",
       "      <td>male</td>\n",
       "      <td>27.0</td>\n",
       "      <td>0</td>\n",
       "      <td>0</td>\n",
       "      <td>211536</td>\n",
       "      <td>13.0000</td>\n",
       "      <td>NaN</td>\n",
       "      <td>S</td>\n",
       "    </tr>\n",
       "    <tr>\n",
       "      <th>887</th>\n",
       "      <td>888</td>\n",
       "      <td>1</td>\n",
       "      <td>1</td>\n",
       "      <td>Graham, Miss. Margaret Edith</td>\n",
       "      <td>female</td>\n",
       "      <td>19.0</td>\n",
       "      <td>0</td>\n",
       "      <td>0</td>\n",
       "      <td>112053</td>\n",
       "      <td>30.0000</td>\n",
       "      <td>B42</td>\n",
       "      <td>S</td>\n",
       "    </tr>\n",
       "    <tr>\n",
       "      <th>888</th>\n",
       "      <td>889</td>\n",
       "      <td>0</td>\n",
       "      <td>3</td>\n",
       "      <td>Johnston, Miss. Catherine Helen \"Carrie\"</td>\n",
       "      <td>female</td>\n",
       "      <td>NaN</td>\n",
       "      <td>1</td>\n",
       "      <td>2</td>\n",
       "      <td>W./C. 6607</td>\n",
       "      <td>23.4500</td>\n",
       "      <td>NaN</td>\n",
       "      <td>S</td>\n",
       "    </tr>\n",
       "    <tr>\n",
       "      <th>889</th>\n",
       "      <td>890</td>\n",
       "      <td>1</td>\n",
       "      <td>1</td>\n",
       "      <td>Behr, Mr. Karl Howell</td>\n",
       "      <td>male</td>\n",
       "      <td>26.0</td>\n",
       "      <td>0</td>\n",
       "      <td>0</td>\n",
       "      <td>111369</td>\n",
       "      <td>30.0000</td>\n",
       "      <td>C148</td>\n",
       "      <td>C</td>\n",
       "    </tr>\n",
       "    <tr>\n",
       "      <th>890</th>\n",
       "      <td>891</td>\n",
       "      <td>0</td>\n",
       "      <td>3</td>\n",
       "      <td>Dooley, Mr. Patrick</td>\n",
       "      <td>male</td>\n",
       "      <td>32.0</td>\n",
       "      <td>0</td>\n",
       "      <td>0</td>\n",
       "      <td>370376</td>\n",
       "      <td>7.7500</td>\n",
       "      <td>NaN</td>\n",
       "      <td>Q</td>\n",
       "    </tr>\n",
       "  </tbody>\n",
       "</table>\n",
       "<p>891 rows × 12 columns</p>\n",
       "</div>"
      ],
      "text/plain": [
       "     PassengerId  Survived  Pclass  \\\n",
       "0              1         0       3   \n",
       "1              2         1       1   \n",
       "2              3         1       3   \n",
       "3              4         1       1   \n",
       "4              5         0       3   \n",
       "..           ...       ...     ...   \n",
       "886          887         0       2   \n",
       "887          888         1       1   \n",
       "888          889         0       3   \n",
       "889          890         1       1   \n",
       "890          891         0       3   \n",
       "\n",
       "                                                  Name     Sex   Age  SibSp  \\\n",
       "0                              Braund, Mr. Owen Harris    male  22.0      1   \n",
       "1    Cumings, Mrs. John Bradley (Florence Briggs Th...  female  38.0      1   \n",
       "2                               Heikkinen, Miss. Laina  female  26.0      0   \n",
       "3         Futrelle, Mrs. Jacques Heath (Lily May Peel)  female  35.0      1   \n",
       "4                             Allen, Mr. William Henry    male  35.0      0   \n",
       "..                                                 ...     ...   ...    ...   \n",
       "886                              Montvila, Rev. Juozas    male  27.0      0   \n",
       "887                       Graham, Miss. Margaret Edith  female  19.0      0   \n",
       "888           Johnston, Miss. Catherine Helen \"Carrie\"  female   NaN      1   \n",
       "889                              Behr, Mr. Karl Howell    male  26.0      0   \n",
       "890                                Dooley, Mr. Patrick    male  32.0      0   \n",
       "\n",
       "     Parch            Ticket     Fare Cabin Embarked  \n",
       "0        0         A/5 21171   7.2500   NaN        S  \n",
       "1        0          PC 17599  71.2833   C85        C  \n",
       "2        0  STON/O2. 3101282   7.9250   NaN        S  \n",
       "3        0            113803  53.1000  C123        S  \n",
       "4        0            373450   8.0500   NaN        S  \n",
       "..     ...               ...      ...   ...      ...  \n",
       "886      0            211536  13.0000   NaN        S  \n",
       "887      0            112053  30.0000   B42        S  \n",
       "888      2        W./C. 6607  23.4500   NaN        S  \n",
       "889      0            111369  30.0000  C148        C  \n",
       "890      0            370376   7.7500   NaN        Q  \n",
       "\n",
       "[891 rows x 12 columns]"
      ]
     },
     "execution_count": 30,
     "metadata": {},
     "output_type": "execute_result"
    }
   ],
   "source": [
    "data = pd.read_csv(\"./titanic.csv\")\n",
    "data"
   ]
  },
  {
   "attachments": {},
   "cell_type": "markdown",
   "id": "05045c73",
   "metadata": {},
   "source": [
    "# Questions"
   ]
  },
  {
   "attachments": {},
   "cell_type": "markdown",
   "id": "a164d862",
   "metadata": {},
   "source": [
    "## 1. Préparation des données\n",
    "\n",
    "Remplissez la function `preprocess` ci-dessus. Celle-ci doit:\n",
    "1. Supprimez les colonnes `PassengerId`, `Name`, `Ticket`, `Cabin`.\n",
    "2. Supprimez les lignes contenant au moins une valeur manquante.\n",
    "3. Créer une variable `FamilySize` qui est correspond à `SibSp` + `Parch` + 1. Supprimez les variables `SibSp` et `Parch`.\n",
    "4. Recalculer le prix du billet `Fare` en divisant `Fare` par `FamilySize`.\n",
    "5. Encoder les variables qualitatives `Sex` et `Embarked` avec l'argument `drop_first=True`."
   ]
  },
  {
   "cell_type": "code",
   "execution_count": 31,
   "id": "d4299600",
   "metadata": {},
   "outputs": [],
   "source": [
    "def preprocess(data: pd.DataFrame) -> pd.DataFrame:\n",
    "    \n",
    "    \"\"\"La fonction prépare les données à l'analyse.\n",
    "    \n",
    "    Args:\n",
    "        data (pd.DataFrame): La dataframe originale\n",
    "        \n",
    "    Returns:\n",
    "        pd.DataFrame: La dataframe preprocessé et prête à être analysée.\n",
    "    \"\"\"\n",
    "    \n",
    "    # Faire une copy de la dataframe originale\n",
    "    data_preprocessed = data.copy()\n",
    "    \n",
    "    # Supprimez les variables `PassengerId`, `Name`, `Ticket` & `Cabin`\n",
    "    data_preprocessed.drop(columns=['PassengerId', 'Name', 'Ticket', 'Cabin'], inplace=True)\n",
    "    \n",
    "    # Supprimez lignes contenant au moins une valeur manquante\n",
    "    data_preprocessed.dropna(axis=0, inplace=True) # on supprime les lignes (axe 0) et pas les colonnes \n",
    "    \n",
    "    # Créer une variable `FamilySize` et supprimez les variables `SibSp` et `Parch`\n",
    "    data_preprocessed['FamilySize'] = data['SibSp'] + data['Parch'] + 1\n",
    "    data_preprocessed.drop(columns=['SibSp', 'Parch'], inplace=True)\n",
    "    \n",
    "    # Recalculer le prix du billet\n",
    "    data_preprocessed['Fare'] = data_preprocessed['Fare'] / data_preprocessed['FamilySize']\n",
    "    \n",
    "    # Encoded (OHE) `Sex` et `Embarked`\n",
    "    data_preprocessed = pd.get_dummies(data_preprocessed, columns=['Sex', 'Embarked'], drop_first=True, dtype=int)\n",
    "    \n",
    "    \n",
    "    # CHECK: NE PAS TOUCHER\n",
    "    for col in [\"PassengerId\", \"Name\", \"Ticket\", \"Cabin\", \"SibSp\", \"Parch\"]:\n",
    "        assert col not in data_preprocessed, f\"{col} n'a pas été retiré.\"\n",
    "    assert data_preprocessed.isna().sum().sum() == 0, \"Il reste encore des NaN à supprimer.\"\n",
    "    assert \"FamilySize\" in data_preprocessed.columns, \"La colonne `FamilySize` n'a pas été créée.\"\n",
    "    assert data_preprocessed.loc[0, \"Fare\"] == 3.625, \"La colonne `Fare` n'a pas été recalculée.\"\n",
    "    for col in [col for col in data_preprocessed if col.startswith(\"Embarked\")]:\n",
    "        assert data_preprocessed[col].nunique() == 2, f\"{col} n'a pas été encodé.\"\n",
    "    for col in [col for col in data_preprocessed if col.startswith(\"Sex\")]:\n",
    "        assert data_preprocessed[col].nunique() == 2, f\"{col} n'a pas été encodé.\"\n",
    "    \n",
    "    return data_preprocessed"
   ]
  },
  {
   "attachments": {},
   "cell_type": "markdown",
   "id": "35ca88d2",
   "metadata": {},
   "source": [
    "Le résultat de la function doit vous donner exactement le tableau ci-dessous."
   ]
  },
  {
   "cell_type": "code",
   "execution_count": 32,
   "id": "53b7ef06",
   "metadata": {},
   "outputs": [
    {
     "data": {
      "text/html": [
       "<div>\n",
       "<style scoped>\n",
       "    .dataframe tbody tr th:only-of-type {\n",
       "        vertical-align: middle;\n",
       "    }\n",
       "\n",
       "    .dataframe tbody tr th {\n",
       "        vertical-align: top;\n",
       "    }\n",
       "\n",
       "    .dataframe thead th {\n",
       "        text-align: right;\n",
       "    }\n",
       "</style>\n",
       "<table border=\"1\" class=\"dataframe\">\n",
       "  <thead>\n",
       "    <tr style=\"text-align: right;\">\n",
       "      <th></th>\n",
       "      <th>Survived</th>\n",
       "      <th>Pclass</th>\n",
       "      <th>Age</th>\n",
       "      <th>Fare</th>\n",
       "      <th>FamilySize</th>\n",
       "      <th>Sex_male</th>\n",
       "      <th>Embarked_Q</th>\n",
       "      <th>Embarked_S</th>\n",
       "    </tr>\n",
       "  </thead>\n",
       "  <tbody>\n",
       "    <tr>\n",
       "      <th>0</th>\n",
       "      <td>0</td>\n",
       "      <td>3</td>\n",
       "      <td>22.0</td>\n",
       "      <td>3.625000</td>\n",
       "      <td>2</td>\n",
       "      <td>1</td>\n",
       "      <td>0</td>\n",
       "      <td>1</td>\n",
       "    </tr>\n",
       "    <tr>\n",
       "      <th>1</th>\n",
       "      <td>1</td>\n",
       "      <td>1</td>\n",
       "      <td>38.0</td>\n",
       "      <td>35.641650</td>\n",
       "      <td>2</td>\n",
       "      <td>0</td>\n",
       "      <td>0</td>\n",
       "      <td>0</td>\n",
       "    </tr>\n",
       "    <tr>\n",
       "      <th>2</th>\n",
       "      <td>1</td>\n",
       "      <td>3</td>\n",
       "      <td>26.0</td>\n",
       "      <td>7.925000</td>\n",
       "      <td>1</td>\n",
       "      <td>0</td>\n",
       "      <td>0</td>\n",
       "      <td>1</td>\n",
       "    </tr>\n",
       "    <tr>\n",
       "      <th>3</th>\n",
       "      <td>1</td>\n",
       "      <td>1</td>\n",
       "      <td>35.0</td>\n",
       "      <td>26.550000</td>\n",
       "      <td>2</td>\n",
       "      <td>0</td>\n",
       "      <td>0</td>\n",
       "      <td>1</td>\n",
       "    </tr>\n",
       "    <tr>\n",
       "      <th>4</th>\n",
       "      <td>0</td>\n",
       "      <td>3</td>\n",
       "      <td>35.0</td>\n",
       "      <td>8.050000</td>\n",
       "      <td>1</td>\n",
       "      <td>1</td>\n",
       "      <td>0</td>\n",
       "      <td>1</td>\n",
       "    </tr>\n",
       "    <tr>\n",
       "      <th>...</th>\n",
       "      <td>...</td>\n",
       "      <td>...</td>\n",
       "      <td>...</td>\n",
       "      <td>...</td>\n",
       "      <td>...</td>\n",
       "      <td>...</td>\n",
       "      <td>...</td>\n",
       "      <td>...</td>\n",
       "    </tr>\n",
       "    <tr>\n",
       "      <th>885</th>\n",
       "      <td>0</td>\n",
       "      <td>3</td>\n",
       "      <td>39.0</td>\n",
       "      <td>4.854167</td>\n",
       "      <td>6</td>\n",
       "      <td>0</td>\n",
       "      <td>1</td>\n",
       "      <td>0</td>\n",
       "    </tr>\n",
       "    <tr>\n",
       "      <th>886</th>\n",
       "      <td>0</td>\n",
       "      <td>2</td>\n",
       "      <td>27.0</td>\n",
       "      <td>13.000000</td>\n",
       "      <td>1</td>\n",
       "      <td>1</td>\n",
       "      <td>0</td>\n",
       "      <td>1</td>\n",
       "    </tr>\n",
       "    <tr>\n",
       "      <th>887</th>\n",
       "      <td>1</td>\n",
       "      <td>1</td>\n",
       "      <td>19.0</td>\n",
       "      <td>30.000000</td>\n",
       "      <td>1</td>\n",
       "      <td>0</td>\n",
       "      <td>0</td>\n",
       "      <td>1</td>\n",
       "    </tr>\n",
       "    <tr>\n",
       "      <th>889</th>\n",
       "      <td>1</td>\n",
       "      <td>1</td>\n",
       "      <td>26.0</td>\n",
       "      <td>30.000000</td>\n",
       "      <td>1</td>\n",
       "      <td>1</td>\n",
       "      <td>0</td>\n",
       "      <td>0</td>\n",
       "    </tr>\n",
       "    <tr>\n",
       "      <th>890</th>\n",
       "      <td>0</td>\n",
       "      <td>3</td>\n",
       "      <td>32.0</td>\n",
       "      <td>7.750000</td>\n",
       "      <td>1</td>\n",
       "      <td>1</td>\n",
       "      <td>1</td>\n",
       "      <td>0</td>\n",
       "    </tr>\n",
       "  </tbody>\n",
       "</table>\n",
       "<p>712 rows × 8 columns</p>\n",
       "</div>"
      ],
      "text/plain": [
       "     Survived  Pclass   Age       Fare  FamilySize  Sex_male  Embarked_Q  \\\n",
       "0           0       3  22.0   3.625000           2         1           0   \n",
       "1           1       1  38.0  35.641650           2         0           0   \n",
       "2           1       3  26.0   7.925000           1         0           0   \n",
       "3           1       1  35.0  26.550000           2         0           0   \n",
       "4           0       3  35.0   8.050000           1         1           0   \n",
       "..        ...     ...   ...        ...         ...       ...         ...   \n",
       "885         0       3  39.0   4.854167           6         0           1   \n",
       "886         0       2  27.0  13.000000           1         1           0   \n",
       "887         1       1  19.0  30.000000           1         0           0   \n",
       "889         1       1  26.0  30.000000           1         1           0   \n",
       "890         0       3  32.0   7.750000           1         1           1   \n",
       "\n",
       "     Embarked_S  \n",
       "0             1  \n",
       "1             0  \n",
       "2             1  \n",
       "3             1  \n",
       "4             1  \n",
       "..          ...  \n",
       "885           0  \n",
       "886           1  \n",
       "887           1  \n",
       "889           0  \n",
       "890           0  \n",
       "\n",
       "[712 rows x 8 columns]"
      ]
     },
     "metadata": {},
     "output_type": "display_data"
    }
   ],
   "source": [
    "# Preprocess les données à l'aide de la function `preprocess`\n",
    "data_clean = preprocess(data)\n",
    "display(data_clean)"
   ]
  },
  {
   "attachments": {},
   "cell_type": "markdown",
   "id": "5a1091b1",
   "metadata": {},
   "source": [
    "## 2. Inférence statistique (4 pts)"
   ]
  },
  {
   "cell_type": "code",
   "execution_count": 33,
   "metadata": {},
   "outputs": [],
   "source": [
    "# variables globales\n",
    "ALPHA = 0.05"
   ]
  },
  {
   "attachments": {},
   "cell_type": "markdown",
   "id": "93fdb7b6",
   "metadata": {},
   "source": [
    "**Q1: L'âge moyen des passagers du Titanic est-il est le même que l'âge moyen de la population en 1912 (28 ans)?**"
   ]
  },
  {
   "cell_type": "markdown",
   "metadata": {},
   "source": [
    "## Q1\n",
    "La variable d'intérêt ici est \"Age\", qui est une variable quantitative continue."
   ]
  },
  {
   "cell_type": "code",
   "execution_count": 34,
   "metadata": {},
   "outputs": [
    {
     "data": {
      "image/png": "[encoded data removed]",
      "text/plain": [
       "<Figure size 640x480 with 1 Axes>"
      ]
     },
     "metadata": {},
     "output_type": "display_data"
    }
   ],
   "source": [
    "plt.hist(data_clean['Age'], bins=30, edgecolor='black')\n",
    "plt.title('Distribution des âges des passagers du Titanic')\n",
    "plt.xlabel('Âge')\n",
    "plt.ylabel('Fréquence')\n",
    "plt.show()"
   ]
  },
  {
   "cell_type": "markdown",
   "metadata": {},
   "source": [
    "Hypothèse nulle et alternative :\n",
    "H0: μ = 28\n",
    "H1: μ != 28\n",
    "\n",
    "Le test statistique approprié est le t-test"
   ]
  },
  {
   "cell_type": "code",
   "execution_count": 35,
   "metadata": {},
   "outputs": [
    {
     "name": "stdout",
     "output_type": "stream",
     "text": [
      "La statistique t est de : 3.023\n",
      "La p-valeur associée est de : 0.003\n",
      "Avec un seuil alpha 0.05, on rejète l'hypothèse nulle.\n",
      "Moyenne d'âge de l'échantillon : 29.642\n",
      "Taille de l'effet (d de Cohen) : 0.113\n"
     ]
    }
   ],
   "source": [
    "# moyenne de l'âge de la population en 1912\n",
    "mu = 28\n",
    "# âge des passagers du Titanic\n",
    "age = data_clean['Age']\n",
    "\n",
    "t, p_valeur = stats.ttest_1samp(age, popmean=mu)\n",
    "sample_mean = np.mean(age)\n",
    "d_cohen = (sample_mean - mu) / np.std(age)\n",
    "\n",
    "print(f\"La statistique t est de : {round(t, 3)}\")\n",
    "print(f\"La p-valeur associée est de : {round(p_valeur, 3)}\")\n",
    "if p_valeur < ALPHA:\n",
    "    print(f\"Avec un seuil alpha {ALPHA}, on rejète l'hypothèse nulle.\")\n",
    "else:\n",
    "    print(f\"Avec un seuil alpha {ALPHA}, on ne rejète pas l'hypothèse nulle.\")\n",
    "print(f\"Moyenne d'âge de l'échantillon : {round(sample_mean, 3)}\")\n",
    "print(f\"Taille de l'effet (d de Cohen) : {round(d_cohen, 3)}\")"
   ]
  },
  {
   "cell_type": "markdown",
   "metadata": {},
   "source": [
    "### Interprétation des résultats et évalutaion de la taille des effets:\n",
    "L'âge moyen des passagers du Titanic est statistiquement significativement différent de 28 ans, mais la différence d'âge moyen entre les passagers du Titanic et la population en 1912 est petit en terme d'écart-type.\n",
    "\n",
    "Cela pourrait suggérer que l'âge des passagers du Titanic reflétait assez bien la distribution des âges dans la population en général en 1912, même si l'âge moyen était légèrement différent."
   ]
  },
  {
   "attachments": {},
   "cell_type": "markdown",
   "id": "7ec7b55f",
   "metadata": {},
   "source": [
    "**Q2: La survie dépend-elle de la classe du passager?**"
   ]
  },
  {
   "cell_type": "markdown",
   "metadata": {},
   "source": [
    "Les variables d'intérêts sont la variable de survie et la classe du passager. Ces deux variables sont qualitatives: nominale pour \"Survived\" et ordinale pour \"Pclass\"."
   ]
  },
  {
   "cell_type": "code",
   "execution_count": 36,
   "metadata": {},
   "outputs": [
    {
     "data": {
      "image/png": "[encoded data removed]",
      "text/plain": [
       "<Figure size 640x480 with 1 Axes>"
      ]
     },
     "metadata": {},
     "output_type": "display_data"
    }
   ],
   "source": [
    "\n",
    "# Créer un diagramme en barres\n",
    "fig, ax = plt.subplots()\n",
    "\n",
    "# Barres pour la variable nominale\n",
    "data_clean['Survived'].value_counts().plot(kind='bar', position=0, width=0.4, ax=ax, color='blue')\n",
    "\n",
    "# Barres pour la variable ordinale\n",
    "data_clean['Pclass'].value_counts().plot(kind='bar', position=1, width=0.4, ax=ax, color='orange')\n",
    "\n",
    "# Réglages du graphique\n",
    "ax.set_xlabel('Classe passager')\n",
    "ax.set_ylabel('Nbre de survécus')\n",
    "ax.set_title('Nbre de survécu par rapport à leur classe occupée')\n",
    "ax.legend()\n",
    "\n",
    "# Afficher le diagramme\n",
    "plt.show()"
   ]
  },
  {
   "cell_type": "markdown",
   "metadata": {},
   "source": [
    "\n",
    "Hypothèse nulle et alternative :\n",
    "H0: μ = La survie d'un passager et le type de sa classe sont indépendantes l'un de l'autre.\n",
    "H1: μ != La survie d'un passager et le type de sa classe ne sont pas indépendantes l'un de l'autre.\n",
    "Le test statistique approprié ici est le 𝜒2 independence test ou \"chi-square\"."
   ]
  },
  {
   "cell_type": "code",
   "execution_count": 37,
   "metadata": {},
   "outputs": [
    {
     "name": "stdout",
     "output_type": "stream",
     "text": [
      "La statistique du test Chi-Squared : 91.08074548791019\n",
      "La p-valeur associée est de : 1.6675060315554636e-20\n",
      "Les assomptions sont respectées: Les échantillons sont aléatoires et pour chaque combinaison des niveaux des variables, nous avons au moins 5 valeurs.\n",
      "Il y a une association significative entre les personnes qui ont survécus et leur classe passager.\n"
     ]
    }
   ],
   "source": [
    "# Créer un tableau de contingence pour les variables \"Survived\" et \"Pclass\"\n",
    "contingency_table = pd.crosstab(data_clean['Survived'], data_clean['Pclass'])\n",
    "\n",
    "# Effectuer le test du chi-deux\n",
    "chi2, p, _, _ = chi2_contingency(contingency_table)\n",
    "\n",
    "# Afficher les résultats\n",
    "print(f\"La statistique du test Chi-Squared : {chi2}\")\n",
    "print(f\"La p-valeur associée est de : {p}\")\n",
    "print(f\"Les assomptions sont respectées: Les échantillons sont aléatoires et pour chaque combinaison des niveaux des variables, nous avons au moins 5 valeurs.\")\n",
    "\n",
    "\n",
    "\n",
    "# Interpréter les résultats\n",
    "if p < ALPHA:\n",
    "    print(\"Il y a une association significative entre les personnes qui ont survécus et leur classe passager.\")\n",
    "else:\n",
    "    print(\"Il n'y a pas de preuve significative d'association entre les personnes qui ont survécus et leur classe passager.\")\n"
   ]
  },
  {
   "attachments": {},
   "cell_type": "markdown",
   "id": "6dba1f3c",
   "metadata": {},
   "source": [
    "**Q3: Existe-t-il une différence d'âge entre les passagers qui ont survécu et les passagers décédés?**"
   ]
  },
  {
   "cell_type": "markdown",
   "metadata": {},
   "source": [
    "Les variables d'intérêt son ici Age (variable quantitative continue) et Survived (variable quanlitative catégorielle)"
   ]
  },
  {
   "cell_type": "code",
   "execution_count": 38,
   "metadata": {},
   "outputs": [
    {
     "ename": "TypeError",
     "evalue": "Axes.boxplot() got an unexpected keyword argument 'legend'",
     "output_type": "error",
     "traceback": [
      "\u001b[1;31m---------------------------------------------------------------------------\u001b[0m",
      "\u001b[1;31mTypeError\u001b[0m                                 Traceback (most recent call last)",
      "\u001b[1;32mc:\\Users\\Romy\\ADD\\titanique\\main.ipynb Cell 25\u001b[0m line \u001b[0;36m1\n\u001b[1;32m----> <a href='vscode-notebook-cell:/c%3A/Users/Romy/ADD/titanique/main.ipynb#X32sZmlsZQ%3D%3D?line=0'>1</a>\u001b[0m sns\u001b[39m.\u001b[39mboxplot(\n\u001b[0;32m      <a href='vscode-notebook-cell:/c%3A/Users/Romy/ADD/titanique/main.ipynb#X32sZmlsZQ%3D%3D?line=1'>2</a>\u001b[0m     x\u001b[39m=\u001b[39m\u001b[39m'\u001b[39m\u001b[39mSurvived\u001b[39m\u001b[39m'\u001b[39m, \n\u001b[0;32m      <a href='vscode-notebook-cell:/c%3A/Users/Romy/ADD/titanique/main.ipynb#X32sZmlsZQ%3D%3D?line=2'>3</a>\u001b[0m     y\u001b[39m=\u001b[39m\u001b[39m'\u001b[39m\u001b[39mAge\u001b[39m\u001b[39m'\u001b[39m, \n\u001b[0;32m      <a href='vscode-notebook-cell:/c%3A/Users/Romy/ADD/titanique/main.ipynb#X32sZmlsZQ%3D%3D?line=3'>4</a>\u001b[0m     data\u001b[39m=\u001b[39mdata_clean,\n\u001b[0;32m      <a href='vscode-notebook-cell:/c%3A/Users/Romy/ADD/titanique/main.ipynb#X32sZmlsZQ%3D%3D?line=4'>5</a>\u001b[0m     showmeans\u001b[39m=\u001b[39m\u001b[39mTrue\u001b[39;00m,\n\u001b[0;32m      <a href='vscode-notebook-cell:/c%3A/Users/Romy/ADD/titanique/main.ipynb#X32sZmlsZQ%3D%3D?line=5'>6</a>\u001b[0m     hue\u001b[39m=\u001b[39m\u001b[39m'\u001b[39m\u001b[39mSurvived\u001b[39m\u001b[39m'\u001b[39m,\n\u001b[0;32m      <a href='vscode-notebook-cell:/c%3A/Users/Romy/ADD/titanique/main.ipynb#X32sZmlsZQ%3D%3D?line=6'>7</a>\u001b[0m     legend\u001b[39m=\u001b[39m\u001b[39mFalse\u001b[39;00m,\n\u001b[0;32m      <a href='vscode-notebook-cell:/c%3A/Users/Romy/ADD/titanique/main.ipynb#X32sZmlsZQ%3D%3D?line=7'>8</a>\u001b[0m )\n\u001b[0;32m      <a href='vscode-notebook-cell:/c%3A/Users/Romy/ADD/titanique/main.ipynb#X32sZmlsZQ%3D%3D?line=8'>9</a>\u001b[0m plt\u001b[39m.\u001b[39mtitle(\u001b[39m\"\u001b[39m\u001b[39mBoxplot for Survived and Age\u001b[39m\u001b[39m\"\u001b[39m)\n\u001b[0;32m     <a href='vscode-notebook-cell:/c%3A/Users/Romy/ADD/titanique/main.ipynb#X32sZmlsZQ%3D%3D?line=9'>10</a>\u001b[0m plt\u001b[39m.\u001b[39mxticks(ticks\u001b[39m=\u001b[39m[\u001b[39m0\u001b[39m,\u001b[39m1\u001b[39m], labels\u001b[39m=\u001b[39m[\u001b[39m'\u001b[39m\u001b[39mDied\u001b[39m\u001b[39m'\u001b[39m, \u001b[39m'\u001b[39m\u001b[39mSurvived\u001b[39m\u001b[39m'\u001b[39m])\n",
      "File \u001b[1;32mc:\\Users\\Romy\\anaconda3\\Lib\\site-packages\\seaborn\\categorical.py:2239\u001b[0m, in \u001b[0;36mboxplot\u001b[1;34m(data, x, y, hue, order, hue_order, orient, color, palette, saturation, width, dodge, fliersize, linewidth, whis, ax, **kwargs)\u001b[0m\n\u001b[0;32m   2236\u001b[0m     ax \u001b[39m=\u001b[39m plt\u001b[39m.\u001b[39mgca()\n\u001b[0;32m   2237\u001b[0m kwargs\u001b[39m.\u001b[39mupdate(\u001b[39mdict\u001b[39m(whis\u001b[39m=\u001b[39mwhis))\n\u001b[1;32m-> 2239\u001b[0m plotter\u001b[39m.\u001b[39mplot(ax, kwargs)\n\u001b[0;32m   2240\u001b[0m \u001b[39mreturn\u001b[39;00m ax\n",
      "File \u001b[1;32mc:\\Users\\Romy\\anaconda3\\Lib\\site-packages\\seaborn\\categorical.py:888\u001b[0m, in \u001b[0;36m_BoxPlotter.plot\u001b[1;34m(self, ax, boxplot_kws)\u001b[0m\n\u001b[0;32m    886\u001b[0m \u001b[39mdef\u001b[39;00m \u001b[39mplot\u001b[39m(\u001b[39mself\u001b[39m, ax, boxplot_kws):\n\u001b[0;32m    887\u001b[0m \u001b[39m    \u001b[39m\u001b[39m\"\"\"Make the plot.\"\"\"\u001b[39;00m\n\u001b[1;32m--> 888\u001b[0m     \u001b[39mself\u001b[39m\u001b[39m.\u001b[39mdraw_boxplot(ax, boxplot_kws)\n\u001b[0;32m    889\u001b[0m     \u001b[39mself\u001b[39m\u001b[39m.\u001b[39mannotate_axes(ax)\n\u001b[0;32m    890\u001b[0m     \u001b[39mif\u001b[39;00m \u001b[39mself\u001b[39m\u001b[39m.\u001b[39morient \u001b[39m==\u001b[39m \u001b[39m\"\u001b[39m\u001b[39mh\u001b[39m\u001b[39m\"\u001b[39m:\n",
      "File \u001b[1;32mc:\\Users\\Romy\\anaconda3\\Lib\\site-packages\\seaborn\\categorical.py:849\u001b[0m, in \u001b[0;36m_BoxPlotter.draw_boxplot\u001b[1;34m(self, ax, kws)\u001b[0m\n\u001b[0;32m    846\u001b[0m     \u001b[39mcontinue\u001b[39;00m\n\u001b[0;32m    848\u001b[0m center \u001b[39m=\u001b[39m i \u001b[39m+\u001b[39m offsets[j]\n\u001b[1;32m--> 849\u001b[0m artist_dict \u001b[39m=\u001b[39m ax\u001b[39m.\u001b[39mboxplot(box_data,\n\u001b[0;32m    850\u001b[0m                          vert\u001b[39m=\u001b[39mvert,\n\u001b[0;32m    851\u001b[0m                          patch_artist\u001b[39m=\u001b[39m\u001b[39mTrue\u001b[39;00m,\n\u001b[0;32m    852\u001b[0m                          positions\u001b[39m=\u001b[39m[center],\n\u001b[0;32m    853\u001b[0m                          widths\u001b[39m=\u001b[39m\u001b[39mself\u001b[39m\u001b[39m.\u001b[39mnested_width,\n\u001b[0;32m    854\u001b[0m                          \u001b[39m*\u001b[39m\u001b[39m*\u001b[39mkws)\n\u001b[0;32m    855\u001b[0m \u001b[39mself\u001b[39m\u001b[39m.\u001b[39mrestyle_boxplot(artist_dict, \u001b[39mself\u001b[39m\u001b[39m.\u001b[39mcolors[j], props)\n",
      "File \u001b[1;32mc:\\Users\\Romy\\anaconda3\\Lib\\site-packages\\matplotlib\\__init__.py:1442\u001b[0m, in \u001b[0;36m_preprocess_data.<locals>.inner\u001b[1;34m(ax, data, *args, **kwargs)\u001b[0m\n\u001b[0;32m   1439\u001b[0m \u001b[39m@functools\u001b[39m\u001b[39m.\u001b[39mwraps(func)\n\u001b[0;32m   1440\u001b[0m \u001b[39mdef\u001b[39;00m \u001b[39minner\u001b[39m(ax, \u001b[39m*\u001b[39margs, data\u001b[39m=\u001b[39m\u001b[39mNone\u001b[39;00m, \u001b[39m*\u001b[39m\u001b[39m*\u001b[39mkwargs):\n\u001b[0;32m   1441\u001b[0m     \u001b[39mif\u001b[39;00m data \u001b[39mis\u001b[39;00m \u001b[39mNone\u001b[39;00m:\n\u001b[1;32m-> 1442\u001b[0m         \u001b[39mreturn\u001b[39;00m func(ax, \u001b[39m*\u001b[39m\u001b[39mmap\u001b[39m(sanitize_sequence, args), \u001b[39m*\u001b[39m\u001b[39m*\u001b[39mkwargs)\n\u001b[0;32m   1444\u001b[0m     bound \u001b[39m=\u001b[39m new_sig\u001b[39m.\u001b[39mbind(ax, \u001b[39m*\u001b[39margs, \u001b[39m*\u001b[39m\u001b[39m*\u001b[39mkwargs)\n\u001b[0;32m   1445\u001b[0m     auto_label \u001b[39m=\u001b[39m (bound\u001b[39m.\u001b[39marguments\u001b[39m.\u001b[39mget(label_namer)\n\u001b[0;32m   1446\u001b[0m                   \u001b[39mor\u001b[39;00m bound\u001b[39m.\u001b[39mkwargs\u001b[39m.\u001b[39mget(label_namer))\n",
      "\u001b[1;31mTypeError\u001b[0m: Axes.boxplot() got an unexpected keyword argument 'legend'"
     ]
    },
    {
     "data": {
      "image/png": "[encoded data removed]",
      "text/plain": [
       "<Figure size 640x480 with 1 Axes>"
      ]
     },
     "metadata": {},
     "output_type": "display_data"
    }
   ],
   "source": [
    "sns.boxplot(\n",
    "    x='Survived', \n",
    "    y='Age', \n",
    "    data=data_clean,\n",
    "    showmeans=True,\n",
    "    hue='Survived',\n",
    "    legend=False,\n",
    ")\n",
    "plt.title(\"Boxplot for Survived and Age\")\n",
    "plt.xticks(ticks=[0,1], labels=['Died', 'Survived'])"
   ]
  },
  {
   "cell_type": "markdown",
   "metadata": {},
   "source": [
    "Hypothèse nulle et alternative :\n",
    "Hypothèse nulle (H0) : Il n'y a pas de différence significative entre l'âge des passagers qui ont survécu et ceux qui sont décédés.\n",
    "Hypothèse alternative (H1) : Il y a une différence significative entre l'âge des passagers qui ont survécu et ceux qui sont décédés\n",
    "\n",
    "Le test statistique approprié est le two-samplple t-test"
   ]
  },
  {
   "cell_type": "code",
   "execution_count": null,
   "metadata": {},
   "outputs": [
    {
     "name": "stdout",
     "output_type": "stream",
     "text": [
      "La moyenne d'âge des survivants est de : 28.193\n",
      "La moyenne d'âge des non-survivants est de : 30.626\n",
      "La statistique t est de : -2.184\n",
      "La p-valeur associée est de : 0.029\n",
      "Avec un seuil alpha 0.05, on rejète l'hypothèse nulle.\n",
      "Taille de l'effet (d de Cohen) : -0.168\n"
     ]
    }
   ],
   "source": [
    "survived = data_clean[data_clean['Survived'] == 1]['Age']\n",
    "died = data_clean[data_clean['Survived'] == 0]['Age']\n",
    "\n",
    "t, p_valeur = stats.ttest_ind(\n",
    "    survived,\n",
    "    died,\n",
    "    alternative=\"two-sided\",\n",
    "    equal_var=False\n",
    ")\n",
    "survived_mean = np.mean(survived)\n",
    "died_mean = np.mean(died)\n",
    "variance_survived = np.var(survived, ddof=1)\n",
    "variance_died = np.var(died, ddof=1)\n",
    "n_survived = len(survived)\n",
    "n_died = len(died)\n",
    "d_cohen = (np.mean(survived) - np.mean(died)) / np.sqrt(((n_survived-1)*variance_survived + (n_died-1)*variance_died) / (n_survived+n_died-2))\n",
    "\n",
    "print(f\"La moyenne d'âge des survivants est de : {round(survived_mean, 3)}\")\n",
    "print(f\"La moyenne d'âge des non-survivants est de : {round(died_mean, 3)}\")\n",
    "print(f\"La statistique t est de : {round(t, 3)}\")\n",
    "print(f\"La p-valeur associée est de : {round(p_valeur, 3)}\")\n",
    "if p_valeur < ALPHA:\n",
    "    print(F\"Avec un seuil alpha {ALPHA}, on rejète l'hypothèse nulle.\")\n",
    "else:\n",
    "    print(f\"Avec un seuil alpha {ALPHA}, on ne rejète pas l'hypothèse nulle.\")\n",
    "print(f\"Taille de l'effet (d de Cohen) : {round(d_cohen, 3)}\")"
   ]
  },
  {
   "cell_type": "markdown",
   "metadata": {},
   "source": [
    "### Interprétation des résultats et évalutaion de la taille des effets:\n",
    "Il semble y avoir une différence significative entre l'âge des passagers qui ont survécus et ceux qui sont décédés lors du naufrage, les survivants étant en moyenne plus jeunes. Malgré cela, l'âge n'a pas forcément directement influencé les chances de survie. Le d de Cohen suggère qu'il y a une petite différence statistiquement significative entre l'âge moyen des survivants et des non-survivants sur le Titanic."
   ]
  },
  {
   "attachments": {},
   "cell_type": "markdown",
   "id": "5425c746",
   "metadata": {},
   "source": [
    "**Q4: Existe-t-il une relation entre l'âge des passagers et le prix des billets?**"
   ]
  },
  {
   "cell_type": "markdown",
   "metadata": {},
   "source": [
    "coefficient de corrélation de Pearson avec des nueages de points (ch2)"
   ]
  },
  {
   "cell_type": "code",
   "execution_count": null,
   "metadata": {},
   "outputs": [
    {
     "data": {
      "image/png": "[encoded data removed]",
      "text/plain": [
       "<Figure size 640x480 with 1 Axes>"
      ]
     },
     "metadata": {},
     "output_type": "display_data"
    }
   ],
   "source": [
    "# Sélectionner les colonnes âge et prix des billets\n",
    "age = data_clean['Age']\n",
    "prix_billets = data_clean['Fare']\n",
    "\n",
    "# Tracer le nuage de points pour visualiser la relation\n",
    "plt.scatter(age, prix_billets)\n",
    "plt.xlabel('Âge des passagers')\n",
    "plt.ylabel('Prix des billets')\n",
    "plt.title('Nuage de points : Âge vs Prix des billets')\n",
    "plt.show()\n"
   ]
  },
  {
   "cell_type": "code",
   "execution_count": 40,
   "metadata": {},
   "outputs": [
    {
     "name": "stdout",
     "output_type": "stream",
     "text": [
      "Coefficient de corrélation de Pearson : 0.14563315923055964\n",
      "P-Valeur : 9.620859091068543e-05\n"
     ]
    }
   ],
   "source": [
    "# Sélectionner les colonnes âge et prix des billets\n",
    "age = data_clean['Age']\n",
    "prix_billets = data_clean['Fare']\n",
    "\n",
    "# Supprimer les valeurs manquantes\n",
    "data_clean = data_clean.dropna(subset=['Age', 'Fare'])\n",
    "\n",
    "# Effectuer le test de corrélation de Pearson\n",
    "correlation_coefficient, p_valeur = pearsonr(age, prix_billets)\n",
    "\n",
    "# Vérification des assomptions\n",
    "\n",
    "# Afficher les résultats\n",
    "print(f\"Coefficient de corrélation de Pearson : {correlation_coefficient}\")\n",
    "print(f\"P-Valeur : {p_valeur}\")"
   ]
  },
  {
   "attachments": {},
   "cell_type": "markdown",
   "id": "29f6871f",
   "metadata": {},
   "source": [
    "Pour chacune des questions 1 à 4 ci-dessus, argumenter de manière statistique en effectuant chacune des étapes suivantes:\n",
    "1. Identifier la ou les variables d'intérêt et spécifier le type.\n",
    "2. Réaliser une visualisation appropriée selon la ou les variables.\n",
    "3. Enoncer une hypothèse nulle et une hypothèse alternative considérant la ou les variables identifiées.\n",
    "4. Identifier le test statistique approprié selon les hypothèses énoncées.\n",
    "5. Vérifier la validation des assumptions selon le test identifié.\n",
    "6. Calculer la statistique ainsi que la p-valeur.\n",
    "7. Prendre une décision à partir de la p-valeur et d'un seuil alpha de 5%.\n",
    "8. Interpréter le résultat et évaluer la taille de l'effet."
   ]
  },
  {
   "attachments": {},
   "cell_type": "markdown",
   "id": "493516ca",
   "metadata": {},
   "source": [
    "Quelques liens utiles pour la taille de l'effet:\n",
    "* [https://rpsychologist.com/cohend/](https://rpsychologist.com/cohend/)\n",
    "* [https://datatab.net/tutorial/effect-size-independent-t-test](https://datatab.net/tutorial/effect-size-independent-t-test)\n",
    "* [https://www.simplypsychology.org/effect-size.html](https://www.simplypsychology.org/effect-size.html)"
   ]
  },
  {
   "attachments": {},
   "cell_type": "markdown",
   "id": "740c3ff2",
   "metadata": {},
   "source": [
    "## 3. Data mining (2 pts)"
   ]
  },
  {
   "attachments": {},
   "cell_type": "markdown",
   "id": "6f89920e",
   "metadata": {},
   "source": [
    "**Q1: Effectuer une analyse statistique à l'aide de la régression logistique avec comme variable dépendente la variable `Survived`. Interpréter les coefficients et discuter de leur importance statistique en vous appuyant sur leur p-valeur.**"
   ]
  },
  {
   "attachments": {},
   "cell_type": "markdown",
   "id": "0d66b468",
   "metadata": {},
   "source": [
    "**Q2: Effecter une analyse statistique à l'aide d'un arbre de classification avec comme variable dépendente la variable `Survived` et une profondeur maximale de 4. Visualiser l'arbre et expliquer quelques décisions.**"
   ]
  },
  {
   "attachments": {},
   "cell_type": "markdown",
   "id": "42c0a724",
   "metadata": {},
   "source": [
    "**Conclusion: Interpréter les résultats des deux analyses statistiques et résumer les points importants de votre étude.**"
   ]
  }
 ],
 "metadata": {
  "kernelspec": {
   "display_name": "Python 3 (ipykernel)",
   "language": "python",
   "name": "python3"
  },
  "language_info": {
   "codemirror_mode": {
    "name": "ipython",
    "version": 3
   },
   "file_extension": ".py",
   "mimetype": "text/x-python",
   "name": "python",
   "nbconvert_exporter": "python",
   "pygments_lexer": "ipython3",
   "version": "3.11.4"
  }
 },
 "nbformat": 4,
 "nbformat_minor": 5
}
